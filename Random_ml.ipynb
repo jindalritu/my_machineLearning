{
  "nbformat": 4,
  "nbformat_minor": 0,
  "metadata": {
    "colab": {
      "name": "Untitled2.ipynb",
      "provenance": [],
      "authorship_tag": "ABX9TyMAhKMd8Fubtz+WlkQrYHAE",
      "include_colab_link": true
    },
    "kernelspec": {
      "name": "python3",
      "display_name": "Python 3"
    },
    "language_info": {
      "name": "python"
    }
  },
  "cells": [
    {
      "cell_type": "markdown",
      "metadata": {
        "id": "view-in-github",
        "colab_type": "text"
      },
      "source": [
        "<a href=\"https://colab.research.google.com/github/jindalritu/my_machineLearning/blob/main/Untitled2.ipynb\" target=\"_parent\"><img src=\"https://colab.research.google.com/assets/colab-badge.svg\" alt=\"Open In Colab\"/></a>"
      ]
    },
    {
      "cell_type": "code",
      "metadata": {
        "id": "xk2LhplNCHmk",
        "colab": {
          "base_uri": "https://localhost:8080/"
        },
        "outputId": "cd27cb60-62c3-46be-9347-93dfb3442d2d"
      },
      "source": [
        "from google.colab import drive\n",
        "drive.mount(\"/content/drive\")"
      ],
      "execution_count": null,
      "outputs": [
        {
          "output_type": "stream",
          "text": [
            "Mounted at /content/drive\n"
          ],
          "name": "stdout"
        }
      ]
    },
    {
      "cell_type": "code",
      "metadata": {
        "id": "6wB2uFSRDQry"
      },
      "source": [
        "import pandas as pd\n",
        "from sklearn.preprocessing import OneHotEncoder\n"
      ],
      "execution_count": null,
      "outputs": []
    },
    {
      "cell_type": "code",
      "metadata": {
        "id": "93_Z0HfIEyjs"
      },
      "source": [
        "train_df = pd.read_excel('/content/drive/MyDrive/Colab Notebooks/Data_Train.xlsx',parse_dates=['Date_of_Journey'])\n",
        "test_df = pd.read_excel('/content/drive/MyDrive/Colab Notebooks/Test_set.xlsx',parse_dates=['Date_of_Journey'])\n",
        "pd.set_option('display.max_columns',None)\n"
      ],
      "execution_count": null,
      "outputs": []
    },
    {
      "cell_type": "code",
      "metadata": {
        "colab": {
          "base_uri": "https://localhost:8080/",
          "height": 206
        },
        "id": "Joy6b45VEy3X",
        "outputId": "92e99050-f943-4726-fb4c-7fe88e281462"
      },
      "source": [
        "train_df.head(5)\n"
      ],
      "execution_count": null,
      "outputs": [
        {
          "output_type": "execute_result",
          "data": {
            "text/html": [
              "<div>\n",
              "<style scoped>\n",
              "    .dataframe tbody tr th:only-of-type {\n",
              "        vertical-align: middle;\n",
              "    }\n",
              "\n",
              "    .dataframe tbody tr th {\n",
              "        vertical-align: top;\n",
              "    }\n",
              "\n",
              "    .dataframe thead th {\n",
              "        text-align: right;\n",
              "    }\n",
              "</style>\n",
              "<table border=\"1\" class=\"dataframe\">\n",
              "  <thead>\n",
              "    <tr style=\"text-align: right;\">\n",
              "      <th></th>\n",
              "      <th>Airline</th>\n",
              "      <th>Date_of_Journey</th>\n",
              "      <th>Source</th>\n",
              "      <th>Destination</th>\n",
              "      <th>Route</th>\n",
              "      <th>Dep_Time</th>\n",
              "      <th>Arrival_Time</th>\n",
              "      <th>Duration</th>\n",
              "      <th>Total_Stops</th>\n",
              "      <th>Additional_Info</th>\n",
              "      <th>Price</th>\n",
              "    </tr>\n",
              "  </thead>\n",
              "  <tbody>\n",
              "    <tr>\n",
              "      <th>0</th>\n",
              "      <td>IndiGo</td>\n",
              "      <td>2019-03-24</td>\n",
              "      <td>Banglore</td>\n",
              "      <td>New Delhi</td>\n",
              "      <td>BLR → DEL</td>\n",
              "      <td>22:20</td>\n",
              "      <td>01:10 22 Mar</td>\n",
              "      <td>2h 50m</td>\n",
              "      <td>non-stop</td>\n",
              "      <td>No info</td>\n",
              "      <td>3897</td>\n",
              "    </tr>\n",
              "    <tr>\n",
              "      <th>1</th>\n",
              "      <td>Air India</td>\n",
              "      <td>2019-01-05</td>\n",
              "      <td>Kolkata</td>\n",
              "      <td>Banglore</td>\n",
              "      <td>CCU → IXR → BBI → BLR</td>\n",
              "      <td>05:50</td>\n",
              "      <td>13:15</td>\n",
              "      <td>7h 25m</td>\n",
              "      <td>2 stops</td>\n",
              "      <td>No info</td>\n",
              "      <td>7662</td>\n",
              "    </tr>\n",
              "    <tr>\n",
              "      <th>2</th>\n",
              "      <td>Jet Airways</td>\n",
              "      <td>2019-09-06</td>\n",
              "      <td>Delhi</td>\n",
              "      <td>Cochin</td>\n",
              "      <td>DEL → LKO → BOM → COK</td>\n",
              "      <td>09:25</td>\n",
              "      <td>04:25 10 Jun</td>\n",
              "      <td>19h</td>\n",
              "      <td>2 stops</td>\n",
              "      <td>No info</td>\n",
              "      <td>13882</td>\n",
              "    </tr>\n",
              "    <tr>\n",
              "      <th>3</th>\n",
              "      <td>IndiGo</td>\n",
              "      <td>2019-12-05</td>\n",
              "      <td>Kolkata</td>\n",
              "      <td>Banglore</td>\n",
              "      <td>CCU → NAG → BLR</td>\n",
              "      <td>18:05</td>\n",
              "      <td>23:30</td>\n",
              "      <td>5h 25m</td>\n",
              "      <td>1 stop</td>\n",
              "      <td>No info</td>\n",
              "      <td>6218</td>\n",
              "    </tr>\n",
              "    <tr>\n",
              "      <th>4</th>\n",
              "      <td>IndiGo</td>\n",
              "      <td>2019-01-03</td>\n",
              "      <td>Banglore</td>\n",
              "      <td>New Delhi</td>\n",
              "      <td>BLR → NAG → DEL</td>\n",
              "      <td>16:50</td>\n",
              "      <td>21:35</td>\n",
              "      <td>4h 45m</td>\n",
              "      <td>1 stop</td>\n",
              "      <td>No info</td>\n",
              "      <td>13302</td>\n",
              "    </tr>\n",
              "  </tbody>\n",
              "</table>\n",
              "</div>"
            ],
            "text/plain": [
              "       Airline Date_of_Journey    Source Destination                  Route  \\\n",
              "0       IndiGo      2019-03-24  Banglore   New Delhi              BLR → DEL   \n",
              "1    Air India      2019-01-05   Kolkata    Banglore  CCU → IXR → BBI → BLR   \n",
              "2  Jet Airways      2019-09-06     Delhi      Cochin  DEL → LKO → BOM → COK   \n",
              "3       IndiGo      2019-12-05   Kolkata    Banglore        CCU → NAG → BLR   \n",
              "4       IndiGo      2019-01-03  Banglore   New Delhi        BLR → NAG → DEL   \n",
              "\n",
              "  Dep_Time  Arrival_Time Duration Total_Stops Additional_Info  Price  \n",
              "0    22:20  01:10 22 Mar   2h 50m    non-stop         No info   3897  \n",
              "1    05:50         13:15   7h 25m     2 stops         No info   7662  \n",
              "2    09:25  04:25 10 Jun      19h     2 stops         No info  13882  \n",
              "3    18:05         23:30   5h 25m      1 stop         No info   6218  \n",
              "4    16:50         21:35   4h 45m      1 stop         No info  13302  "
            ]
          },
          "metadata": {},
          "execution_count": 4
        }
      ]
    },
    {
      "cell_type": "code",
      "metadata": {
        "colab": {
          "base_uri": "https://localhost:8080/"
        },
        "id": "yPWfCcxeXZfy",
        "outputId": "e4662d80-9b46-42ec-e40f-cf500b93eb52"
      },
      "source": [
        "test_df.head(5)\n",
        "test_df['Airline'].value_counts()\n",
        "train_df['Airline'].value_counts()"
      ],
      "execution_count": null,
      "outputs": [
        {
          "output_type": "execute_result",
          "data": {
            "text/plain": [
              "Jet Airways                          3849\n",
              "IndiGo                               2053\n",
              "Air India                            1752\n",
              "Multiple carriers                    1196\n",
              "SpiceJet                              818\n",
              "Vistara                               479\n",
              "Air Asia                              319\n",
              "GoAir                                 194\n",
              "Multiple carriers Premium economy      13\n",
              "Jet Airways Business                    6\n",
              "Vistara Premium economy                 3\n",
              "Trujet                                  1\n",
              "Name: Airline, dtype: int64"
            ]
          },
          "metadata": {},
          "execution_count": 6
        }
      ]
    },
    {
      "cell_type": "code",
      "metadata": {
        "colab": {
          "base_uri": "https://localhost:8080/"
        },
        "id": "S-4ayceVFmpW",
        "outputId": "c6617120-4c2b-480c-eb76-efbcb46b9173"
      },
      "source": [
        "train_df.info()\n",
        "test_df.info()"
      ],
      "execution_count": null,
      "outputs": [
        {
          "output_type": "stream",
          "text": [
            "<class 'pandas.core.frame.DataFrame'>\n",
            "RangeIndex: 10683 entries, 0 to 10682\n",
            "Data columns (total 11 columns):\n",
            " #   Column           Non-Null Count  Dtype         \n",
            "---  ------           --------------  -----         \n",
            " 0   Airline          10683 non-null  object        \n",
            " 1   Date_of_Journey  10683 non-null  datetime64[ns]\n",
            " 2   Source           10683 non-null  object        \n",
            " 3   Destination      10683 non-null  object        \n",
            " 4   Route            10682 non-null  object        \n",
            " 5   Dep_Time         10683 non-null  object        \n",
            " 6   Arrival_Time     10683 non-null  object        \n",
            " 7   Duration         10683 non-null  object        \n",
            " 8   Total_Stops      10682 non-null  object        \n",
            " 9   Additional_Info  10683 non-null  object        \n",
            " 10  Price            10683 non-null  int64         \n",
            "dtypes: datetime64[ns](1), int64(1), object(9)\n",
            "memory usage: 918.2+ KB\n",
            "<class 'pandas.core.frame.DataFrame'>\n",
            "RangeIndex: 2671 entries, 0 to 2670\n",
            "Data columns (total 10 columns):\n",
            " #   Column           Non-Null Count  Dtype         \n",
            "---  ------           --------------  -----         \n",
            " 0   Airline          2671 non-null   object        \n",
            " 1   Date_of_Journey  2671 non-null   datetime64[ns]\n",
            " 2   Source           2671 non-null   object        \n",
            " 3   Destination      2671 non-null   object        \n",
            " 4   Route            2671 non-null   object        \n",
            " 5   Dep_Time         2671 non-null   object        \n",
            " 6   Arrival_Time     2671 non-null   object        \n",
            " 7   Duration         2671 non-null   object        \n",
            " 8   Total_Stops      2671 non-null   object        \n",
            " 9   Additional_Info  2671 non-null   object        \n",
            "dtypes: datetime64[ns](1), object(9)\n",
            "memory usage: 208.8+ KB\n"
          ],
          "name": "stdout"
        }
      ]
    },
    {
      "cell_type": "code",
      "metadata": {
        "colab": {
          "base_uri": "https://localhost:8080/"
        },
        "id": "tkjv2kcQHCBC",
        "outputId": "b6629d70-97fa-412b-cae2-4080a19e53b8"
      },
      "source": [
        "train_df['Duration'].value_counts()\n",
        "test_df['Duration'].value_counts()"
      ],
      "execution_count": null,
      "outputs": [
        {
          "output_type": "execute_result",
          "data": {
            "text/plain": [
              "2h 50m     122\n",
              "1h 30m     107\n",
              "2h 45m      95\n",
              "2h 55m      81\n",
              "3h          72\n",
              "          ... \n",
              "40h 40m      1\n",
              "20h 25m      1\n",
              "32h 5m       1\n",
              "19h 15m      1\n",
              "7h 25m       1\n",
              "Name: Duration, Length: 320, dtype: int64"
            ]
          },
          "metadata": {},
          "execution_count": 8
        }
      ]
    },
    {
      "cell_type": "code",
      "metadata": {
        "colab": {
          "base_uri": "https://localhost:8080/"
        },
        "id": "p10b6OYIHtLw",
        "outputId": "e0df7fb0-529a-4bdf-bf08-33176a9e2a43"
      },
      "source": [
        "train_df.dropna( inplace=True)\n",
        "train_df.isnull().sum()\n",
        "test_df.isnull().sum()\n"
      ],
      "execution_count": null,
      "outputs": [
        {
          "output_type": "execute_result",
          "data": {
            "text/plain": [
              "Airline            0\n",
              "Date_of_Journey    0\n",
              "Source             0\n",
              "Destination        0\n",
              "Route              0\n",
              "Dep_Time           0\n",
              "Arrival_Time       0\n",
              "Duration           0\n",
              "Total_Stops        0\n",
              "Additional_Info    0\n",
              "dtype: int64"
            ]
          },
          "metadata": {},
          "execution_count": 9
        }
      ]
    },
    {
      "cell_type": "code",
      "metadata": {
        "id": "-FUpP5MIH4LF"
      },
      "source": [
        "### Another way of doing preprocessing for columns \n",
        "\n",
        "#train_df['Journey1'] = train_df['Date_of_Journey'].astype('str').str.split('-').str[2]\n",
        "#train_df['Journey1']\n",
        "\n",
        "#train_df['Duration'] = train_df['Duration'].str.split(' ').str[1]\n",
        "#train_df['Duration'].str.split('m').str[0]\n"
      ],
      "execution_count": null,
      "outputs": []
    },
    {
      "cell_type": "code",
      "metadata": {
        "colab": {
          "base_uri": "https://localhost:8080/"
        },
        "id": "OK-KKpD2dPxo",
        "outputId": "7c8e1e08-b572-4ced-d458-36b073304fe3"
      },
      "source": [
        "train_df.shape\n"
      ],
      "execution_count": null,
      "outputs": [
        {
          "output_type": "execute_result",
          "data": {
            "text/plain": [
              "(10682, 11)"
            ]
          },
          "metadata": {},
          "execution_count": 11
        }
      ]
    },
    {
      "cell_type": "code",
      "metadata": {
        "colab": {
          "base_uri": "https://localhost:8080/"
        },
        "id": "0VTsJ8hxICZZ",
        "outputId": "65923778-bdde-4743-c67e-0cd7ab13d740"
      },
      "source": [
        "\n",
        "test_df.shape"
      ],
      "execution_count": null,
      "outputs": [
        {
          "output_type": "execute_result",
          "data": {
            "text/plain": [
              "(2671, 10)"
            ]
          },
          "metadata": {},
          "execution_count": 12
        }
      ]
    },
    {
      "cell_type": "code",
      "metadata": {
        "id": "7W8azM3-ICem"
      },
      "source": [
        "train_df['journey_day'] = train_df['Date_of_Journey'].dt.day\n",
        "train_df['journey_month'] = train_df['Date_of_Journey'].dt.month\n",
        "\n",
        "test_df['journey_day'] = test_df['Date_of_Journey'].dt.day\n",
        "test_df['journey_month'] = test_df['Date_of_Journey'].dt.month"
      ],
      "execution_count": null,
      "outputs": []
    },
    {
      "cell_type": "code",
      "metadata": {
        "colab": {
          "base_uri": "https://localhost:8080/",
          "height": 206
        },
        "id": "BHMYQuhVICiw",
        "outputId": "2324e29e-8417-4487-b7f4-4d229c186255"
      },
      "source": [
        "train_df.head()\n",
        "test_df.head()"
      ],
      "execution_count": null,
      "outputs": [
        {
          "output_type": "execute_result",
          "data": {
            "text/html": [
              "<div>\n",
              "<style scoped>\n",
              "    .dataframe tbody tr th:only-of-type {\n",
              "        vertical-align: middle;\n",
              "    }\n",
              "\n",
              "    .dataframe tbody tr th {\n",
              "        vertical-align: top;\n",
              "    }\n",
              "\n",
              "    .dataframe thead th {\n",
              "        text-align: right;\n",
              "    }\n",
              "</style>\n",
              "<table border=\"1\" class=\"dataframe\">\n",
              "  <thead>\n",
              "    <tr style=\"text-align: right;\">\n",
              "      <th></th>\n",
              "      <th>Airline</th>\n",
              "      <th>Date_of_Journey</th>\n",
              "      <th>Source</th>\n",
              "      <th>Destination</th>\n",
              "      <th>Route</th>\n",
              "      <th>Dep_Time</th>\n",
              "      <th>Arrival_Time</th>\n",
              "      <th>Duration</th>\n",
              "      <th>Total_Stops</th>\n",
              "      <th>Additional_Info</th>\n",
              "      <th>journey_day</th>\n",
              "      <th>journey_month</th>\n",
              "    </tr>\n",
              "  </thead>\n",
              "  <tbody>\n",
              "    <tr>\n",
              "      <th>0</th>\n",
              "      <td>Jet Airways</td>\n",
              "      <td>2019-06-06</td>\n",
              "      <td>Delhi</td>\n",
              "      <td>Cochin</td>\n",
              "      <td>DEL → BOM → COK</td>\n",
              "      <td>17:30</td>\n",
              "      <td>04:25 07 Jun</td>\n",
              "      <td>10h 55m</td>\n",
              "      <td>1 stop</td>\n",
              "      <td>No info</td>\n",
              "      <td>6</td>\n",
              "      <td>6</td>\n",
              "    </tr>\n",
              "    <tr>\n",
              "      <th>1</th>\n",
              "      <td>IndiGo</td>\n",
              "      <td>2019-12-05</td>\n",
              "      <td>Kolkata</td>\n",
              "      <td>Banglore</td>\n",
              "      <td>CCU → MAA → BLR</td>\n",
              "      <td>06:20</td>\n",
              "      <td>10:20</td>\n",
              "      <td>4h</td>\n",
              "      <td>1 stop</td>\n",
              "      <td>No info</td>\n",
              "      <td>5</td>\n",
              "      <td>12</td>\n",
              "    </tr>\n",
              "    <tr>\n",
              "      <th>2</th>\n",
              "      <td>Jet Airways</td>\n",
              "      <td>2019-05-21</td>\n",
              "      <td>Delhi</td>\n",
              "      <td>Cochin</td>\n",
              "      <td>DEL → BOM → COK</td>\n",
              "      <td>19:15</td>\n",
              "      <td>19:00 22 May</td>\n",
              "      <td>23h 45m</td>\n",
              "      <td>1 stop</td>\n",
              "      <td>In-flight meal not included</td>\n",
              "      <td>21</td>\n",
              "      <td>5</td>\n",
              "    </tr>\n",
              "    <tr>\n",
              "      <th>3</th>\n",
              "      <td>Multiple carriers</td>\n",
              "      <td>2019-05-21</td>\n",
              "      <td>Delhi</td>\n",
              "      <td>Cochin</td>\n",
              "      <td>DEL → BOM → COK</td>\n",
              "      <td>08:00</td>\n",
              "      <td>21:00</td>\n",
              "      <td>13h</td>\n",
              "      <td>1 stop</td>\n",
              "      <td>No info</td>\n",
              "      <td>21</td>\n",
              "      <td>5</td>\n",
              "    </tr>\n",
              "    <tr>\n",
              "      <th>4</th>\n",
              "      <td>Air Asia</td>\n",
              "      <td>2019-06-24</td>\n",
              "      <td>Banglore</td>\n",
              "      <td>Delhi</td>\n",
              "      <td>BLR → DEL</td>\n",
              "      <td>23:55</td>\n",
              "      <td>02:45 25 Jun</td>\n",
              "      <td>2h 50m</td>\n",
              "      <td>non-stop</td>\n",
              "      <td>No info</td>\n",
              "      <td>24</td>\n",
              "      <td>6</td>\n",
              "    </tr>\n",
              "  </tbody>\n",
              "</table>\n",
              "</div>"
            ],
            "text/plain": [
              "             Airline Date_of_Journey    Source Destination            Route  \\\n",
              "0        Jet Airways      2019-06-06     Delhi      Cochin  DEL → BOM → COK   \n",
              "1             IndiGo      2019-12-05   Kolkata    Banglore  CCU → MAA → BLR   \n",
              "2        Jet Airways      2019-05-21     Delhi      Cochin  DEL → BOM → COK   \n",
              "3  Multiple carriers      2019-05-21     Delhi      Cochin  DEL → BOM → COK   \n",
              "4           Air Asia      2019-06-24  Banglore       Delhi        BLR → DEL   \n",
              "\n",
              "  Dep_Time  Arrival_Time Duration Total_Stops              Additional_Info  \\\n",
              "0    17:30  04:25 07 Jun  10h 55m      1 stop                      No info   \n",
              "1    06:20         10:20       4h      1 stop                      No info   \n",
              "2    19:15  19:00 22 May  23h 45m      1 stop  In-flight meal not included   \n",
              "3    08:00         21:00      13h      1 stop                      No info   \n",
              "4    23:55  02:45 25 Jun   2h 50m    non-stop                      No info   \n",
              "\n",
              "   journey_day  journey_month  \n",
              "0            6              6  \n",
              "1            5             12  \n",
              "2           21              5  \n",
              "3           21              5  \n",
              "4           24              6  "
            ]
          },
          "metadata": {},
          "execution_count": 14
        }
      ]
    },
    {
      "cell_type": "code",
      "metadata": {
        "id": "WpxuVfGQNRS3"
      },
      "source": [
        "train_df.drop('Date_of_Journey',axis=1,inplace=True)\n",
        "test_df.drop('Date_of_Journey',axis=1,inplace=True)\n"
      ],
      "execution_count": null,
      "outputs": []
    },
    {
      "cell_type": "code",
      "metadata": {
        "colab": {
          "base_uri": "https://localhost:8080/",
          "height": 206
        },
        "id": "fTKhz7tfNudq",
        "outputId": "58ee7ea3-8740-43d0-a035-e3ab9dea45ee"
      },
      "source": [
        "train_df.head(5)\n",
        "test_df.head(5)"
      ],
      "execution_count": null,
      "outputs": [
        {
          "output_type": "execute_result",
          "data": {
            "text/html": [
              "<div>\n",
              "<style scoped>\n",
              "    .dataframe tbody tr th:only-of-type {\n",
              "        vertical-align: middle;\n",
              "    }\n",
              "\n",
              "    .dataframe tbody tr th {\n",
              "        vertical-align: top;\n",
              "    }\n",
              "\n",
              "    .dataframe thead th {\n",
              "        text-align: right;\n",
              "    }\n",
              "</style>\n",
              "<table border=\"1\" class=\"dataframe\">\n",
              "  <thead>\n",
              "    <tr style=\"text-align: right;\">\n",
              "      <th></th>\n",
              "      <th>Airline</th>\n",
              "      <th>Source</th>\n",
              "      <th>Destination</th>\n",
              "      <th>Route</th>\n",
              "      <th>Dep_Time</th>\n",
              "      <th>Arrival_Time</th>\n",
              "      <th>Duration</th>\n",
              "      <th>Total_Stops</th>\n",
              "      <th>Additional_Info</th>\n",
              "      <th>journey_day</th>\n",
              "      <th>journey_month</th>\n",
              "    </tr>\n",
              "  </thead>\n",
              "  <tbody>\n",
              "    <tr>\n",
              "      <th>0</th>\n",
              "      <td>Jet Airways</td>\n",
              "      <td>Delhi</td>\n",
              "      <td>Cochin</td>\n",
              "      <td>DEL → BOM → COK</td>\n",
              "      <td>17:30</td>\n",
              "      <td>04:25 07 Jun</td>\n",
              "      <td>10h 55m</td>\n",
              "      <td>1 stop</td>\n",
              "      <td>No info</td>\n",
              "      <td>6</td>\n",
              "      <td>6</td>\n",
              "    </tr>\n",
              "    <tr>\n",
              "      <th>1</th>\n",
              "      <td>IndiGo</td>\n",
              "      <td>Kolkata</td>\n",
              "      <td>Banglore</td>\n",
              "      <td>CCU → MAA → BLR</td>\n",
              "      <td>06:20</td>\n",
              "      <td>10:20</td>\n",
              "      <td>4h</td>\n",
              "      <td>1 stop</td>\n",
              "      <td>No info</td>\n",
              "      <td>5</td>\n",
              "      <td>12</td>\n",
              "    </tr>\n",
              "    <tr>\n",
              "      <th>2</th>\n",
              "      <td>Jet Airways</td>\n",
              "      <td>Delhi</td>\n",
              "      <td>Cochin</td>\n",
              "      <td>DEL → BOM → COK</td>\n",
              "      <td>19:15</td>\n",
              "      <td>19:00 22 May</td>\n",
              "      <td>23h 45m</td>\n",
              "      <td>1 stop</td>\n",
              "      <td>In-flight meal not included</td>\n",
              "      <td>21</td>\n",
              "      <td>5</td>\n",
              "    </tr>\n",
              "    <tr>\n",
              "      <th>3</th>\n",
              "      <td>Multiple carriers</td>\n",
              "      <td>Delhi</td>\n",
              "      <td>Cochin</td>\n",
              "      <td>DEL → BOM → COK</td>\n",
              "      <td>08:00</td>\n",
              "      <td>21:00</td>\n",
              "      <td>13h</td>\n",
              "      <td>1 stop</td>\n",
              "      <td>No info</td>\n",
              "      <td>21</td>\n",
              "      <td>5</td>\n",
              "    </tr>\n",
              "    <tr>\n",
              "      <th>4</th>\n",
              "      <td>Air Asia</td>\n",
              "      <td>Banglore</td>\n",
              "      <td>Delhi</td>\n",
              "      <td>BLR → DEL</td>\n",
              "      <td>23:55</td>\n",
              "      <td>02:45 25 Jun</td>\n",
              "      <td>2h 50m</td>\n",
              "      <td>non-stop</td>\n",
              "      <td>No info</td>\n",
              "      <td>24</td>\n",
              "      <td>6</td>\n",
              "    </tr>\n",
              "  </tbody>\n",
              "</table>\n",
              "</div>"
            ],
            "text/plain": [
              "             Airline    Source Destination            Route Dep_Time  \\\n",
              "0        Jet Airways     Delhi      Cochin  DEL → BOM → COK    17:30   \n",
              "1             IndiGo   Kolkata    Banglore  CCU → MAA → BLR    06:20   \n",
              "2        Jet Airways     Delhi      Cochin  DEL → BOM → COK    19:15   \n",
              "3  Multiple carriers     Delhi      Cochin  DEL → BOM → COK    08:00   \n",
              "4           Air Asia  Banglore       Delhi        BLR → DEL    23:55   \n",
              "\n",
              "   Arrival_Time Duration Total_Stops              Additional_Info  \\\n",
              "0  04:25 07 Jun  10h 55m      1 stop                      No info   \n",
              "1         10:20       4h      1 stop                      No info   \n",
              "2  19:00 22 May  23h 45m      1 stop  In-flight meal not included   \n",
              "3         21:00      13h      1 stop                      No info   \n",
              "4  02:45 25 Jun   2h 50m    non-stop                      No info   \n",
              "\n",
              "   journey_day  journey_month  \n",
              "0            6              6  \n",
              "1            5             12  \n",
              "2           21              5  \n",
              "3           21              5  \n",
              "4           24              6  "
            ]
          },
          "metadata": {},
          "execution_count": 16
        }
      ]
    },
    {
      "cell_type": "code",
      "metadata": {
        "id": "Xtp-3RwyOl1v"
      },
      "source": [
        "train_df['Dep_hour'] = pd.to_datetime(train_df['Dep_Time']).dt.hour\n",
        "train_df['Dep_minute'] = pd.to_datetime(train_df['Dep_Time']).dt.minute\n",
        "test_df['Dep_hour']=pd.to_datetime(test_df['Dep_Time']).dt.hour\n",
        "test_df['Dep_minute'] = pd.to_datetime(test_df['Dep_Time']).dt.minute"
      ],
      "execution_count": null,
      "outputs": []
    },
    {
      "cell_type": "code",
      "metadata": {
        "id": "eYKnEyW0Ol5-"
      },
      "source": [
        "train_df.drop('Dep_Time',axis=1,inplace=True)\n",
        "test_df.drop('Dep_Time',axis=1,inplace=True)"
      ],
      "execution_count": null,
      "outputs": []
    },
    {
      "cell_type": "code",
      "metadata": {
        "colab": {
          "base_uri": "https://localhost:8080/",
          "height": 206
        },
        "id": "VSo6Z4dcOl-i",
        "outputId": "017c110f-1d79-4c03-f3d2-2130ce85ac11"
      },
      "source": [
        "train_df.head(5)\n",
        "test_df.head(5)"
      ],
      "execution_count": null,
      "outputs": [
        {
          "output_type": "execute_result",
          "data": {
            "text/html": [
              "<div>\n",
              "<style scoped>\n",
              "    .dataframe tbody tr th:only-of-type {\n",
              "        vertical-align: middle;\n",
              "    }\n",
              "\n",
              "    .dataframe tbody tr th {\n",
              "        vertical-align: top;\n",
              "    }\n",
              "\n",
              "    .dataframe thead th {\n",
              "        text-align: right;\n",
              "    }\n",
              "</style>\n",
              "<table border=\"1\" class=\"dataframe\">\n",
              "  <thead>\n",
              "    <tr style=\"text-align: right;\">\n",
              "      <th></th>\n",
              "      <th>Airline</th>\n",
              "      <th>Source</th>\n",
              "      <th>Destination</th>\n",
              "      <th>Route</th>\n",
              "      <th>Arrival_Time</th>\n",
              "      <th>Duration</th>\n",
              "      <th>Total_Stops</th>\n",
              "      <th>Additional_Info</th>\n",
              "      <th>journey_day</th>\n",
              "      <th>journey_month</th>\n",
              "      <th>Dep_hour</th>\n",
              "      <th>Dep_minute</th>\n",
              "    </tr>\n",
              "  </thead>\n",
              "  <tbody>\n",
              "    <tr>\n",
              "      <th>0</th>\n",
              "      <td>Jet Airways</td>\n",
              "      <td>Delhi</td>\n",
              "      <td>Cochin</td>\n",
              "      <td>DEL → BOM → COK</td>\n",
              "      <td>04:25 07 Jun</td>\n",
              "      <td>10h 55m</td>\n",
              "      <td>1 stop</td>\n",
              "      <td>No info</td>\n",
              "      <td>6</td>\n",
              "      <td>6</td>\n",
              "      <td>17</td>\n",
              "      <td>30</td>\n",
              "    </tr>\n",
              "    <tr>\n",
              "      <th>1</th>\n",
              "      <td>IndiGo</td>\n",
              "      <td>Kolkata</td>\n",
              "      <td>Banglore</td>\n",
              "      <td>CCU → MAA → BLR</td>\n",
              "      <td>10:20</td>\n",
              "      <td>4h</td>\n",
              "      <td>1 stop</td>\n",
              "      <td>No info</td>\n",
              "      <td>5</td>\n",
              "      <td>12</td>\n",
              "      <td>6</td>\n",
              "      <td>20</td>\n",
              "    </tr>\n",
              "    <tr>\n",
              "      <th>2</th>\n",
              "      <td>Jet Airways</td>\n",
              "      <td>Delhi</td>\n",
              "      <td>Cochin</td>\n",
              "      <td>DEL → BOM → COK</td>\n",
              "      <td>19:00 22 May</td>\n",
              "      <td>23h 45m</td>\n",
              "      <td>1 stop</td>\n",
              "      <td>In-flight meal not included</td>\n",
              "      <td>21</td>\n",
              "      <td>5</td>\n",
              "      <td>19</td>\n",
              "      <td>15</td>\n",
              "    </tr>\n",
              "    <tr>\n",
              "      <th>3</th>\n",
              "      <td>Multiple carriers</td>\n",
              "      <td>Delhi</td>\n",
              "      <td>Cochin</td>\n",
              "      <td>DEL → BOM → COK</td>\n",
              "      <td>21:00</td>\n",
              "      <td>13h</td>\n",
              "      <td>1 stop</td>\n",
              "      <td>No info</td>\n",
              "      <td>21</td>\n",
              "      <td>5</td>\n",
              "      <td>8</td>\n",
              "      <td>0</td>\n",
              "    </tr>\n",
              "    <tr>\n",
              "      <th>4</th>\n",
              "      <td>Air Asia</td>\n",
              "      <td>Banglore</td>\n",
              "      <td>Delhi</td>\n",
              "      <td>BLR → DEL</td>\n",
              "      <td>02:45 25 Jun</td>\n",
              "      <td>2h 50m</td>\n",
              "      <td>non-stop</td>\n",
              "      <td>No info</td>\n",
              "      <td>24</td>\n",
              "      <td>6</td>\n",
              "      <td>23</td>\n",
              "      <td>55</td>\n",
              "    </tr>\n",
              "  </tbody>\n",
              "</table>\n",
              "</div>"
            ],
            "text/plain": [
              "             Airline    Source Destination            Route  Arrival_Time  \\\n",
              "0        Jet Airways     Delhi      Cochin  DEL → BOM → COK  04:25 07 Jun   \n",
              "1             IndiGo   Kolkata    Banglore  CCU → MAA → BLR         10:20   \n",
              "2        Jet Airways     Delhi      Cochin  DEL → BOM → COK  19:00 22 May   \n",
              "3  Multiple carriers     Delhi      Cochin  DEL → BOM → COK         21:00   \n",
              "4           Air Asia  Banglore       Delhi        BLR → DEL  02:45 25 Jun   \n",
              "\n",
              "  Duration Total_Stops              Additional_Info  journey_day  \\\n",
              "0  10h 55m      1 stop                      No info            6   \n",
              "1       4h      1 stop                      No info            5   \n",
              "2  23h 45m      1 stop  In-flight meal not included           21   \n",
              "3      13h      1 stop                      No info           21   \n",
              "4   2h 50m    non-stop                      No info           24   \n",
              "\n",
              "   journey_month  Dep_hour  Dep_minute  \n",
              "0              6        17          30  \n",
              "1             12         6          20  \n",
              "2              5        19          15  \n",
              "3              5         8           0  \n",
              "4              6        23          55  "
            ]
          },
          "metadata": {},
          "execution_count": 19
        }
      ]
    },
    {
      "cell_type": "code",
      "metadata": {
        "id": "yWiFhHtTPkxj"
      },
      "source": [
        "train_df['Arrival_hour'] = pd.to_datetime(train_df['Arrival_Time']).dt.hour\n",
        "train_df['Arrival_minute'] = pd.to_datetime(train_df['Arrival_Time']).dt.minute\n",
        "test_df['Arrival_hour'] = pd.to_datetime(test_df['Arrival_Time']).dt.hour\n",
        "test_df['Arrival_minute'] = pd.to_datetime(test_df['Arrival_Time']).dt.minute"
      ],
      "execution_count": null,
      "outputs": []
    },
    {
      "cell_type": "code",
      "metadata": {
        "id": "_0HoKijdPk1G"
      },
      "source": [
        "train_df.drop('Arrival_Time',axis=1,inplace=True)\n",
        "test_df.drop('Arrival_Time',axis=1,inplace=True)"
      ],
      "execution_count": null,
      "outputs": []
    },
    {
      "cell_type": "code",
      "metadata": {
        "colab": {
          "base_uri": "https://localhost:8080/",
          "height": 275
        },
        "id": "Dn_TGWpuPk5V",
        "outputId": "2844b6de-21b6-4dce-c051-46c63b5cdb02"
      },
      "source": [
        "train_df.head(5)\n",
        "test_df.head(5)"
      ],
      "execution_count": null,
      "outputs": [
        {
          "output_type": "execute_result",
          "data": {
            "text/html": [
              "<div>\n",
              "<style scoped>\n",
              "    .dataframe tbody tr th:only-of-type {\n",
              "        vertical-align: middle;\n",
              "    }\n",
              "\n",
              "    .dataframe tbody tr th {\n",
              "        vertical-align: top;\n",
              "    }\n",
              "\n",
              "    .dataframe thead th {\n",
              "        text-align: right;\n",
              "    }\n",
              "</style>\n",
              "<table border=\"1\" class=\"dataframe\">\n",
              "  <thead>\n",
              "    <tr style=\"text-align: right;\">\n",
              "      <th></th>\n",
              "      <th>Airline</th>\n",
              "      <th>Source</th>\n",
              "      <th>Destination</th>\n",
              "      <th>Route</th>\n",
              "      <th>Duration</th>\n",
              "      <th>Total_Stops</th>\n",
              "      <th>Additional_Info</th>\n",
              "      <th>journey_day</th>\n",
              "      <th>journey_month</th>\n",
              "      <th>Dep_hour</th>\n",
              "      <th>Dep_minute</th>\n",
              "      <th>Arrival_hour</th>\n",
              "      <th>Arrival_minute</th>\n",
              "    </tr>\n",
              "  </thead>\n",
              "  <tbody>\n",
              "    <tr>\n",
              "      <th>0</th>\n",
              "      <td>Jet Airways</td>\n",
              "      <td>Delhi</td>\n",
              "      <td>Cochin</td>\n",
              "      <td>DEL → BOM → COK</td>\n",
              "      <td>10h 55m</td>\n",
              "      <td>1 stop</td>\n",
              "      <td>No info</td>\n",
              "      <td>6</td>\n",
              "      <td>6</td>\n",
              "      <td>17</td>\n",
              "      <td>30</td>\n",
              "      <td>4</td>\n",
              "      <td>25</td>\n",
              "    </tr>\n",
              "    <tr>\n",
              "      <th>1</th>\n",
              "      <td>IndiGo</td>\n",
              "      <td>Kolkata</td>\n",
              "      <td>Banglore</td>\n",
              "      <td>CCU → MAA → BLR</td>\n",
              "      <td>4h</td>\n",
              "      <td>1 stop</td>\n",
              "      <td>No info</td>\n",
              "      <td>5</td>\n",
              "      <td>12</td>\n",
              "      <td>6</td>\n",
              "      <td>20</td>\n",
              "      <td>10</td>\n",
              "      <td>20</td>\n",
              "    </tr>\n",
              "    <tr>\n",
              "      <th>2</th>\n",
              "      <td>Jet Airways</td>\n",
              "      <td>Delhi</td>\n",
              "      <td>Cochin</td>\n",
              "      <td>DEL → BOM → COK</td>\n",
              "      <td>23h 45m</td>\n",
              "      <td>1 stop</td>\n",
              "      <td>In-flight meal not included</td>\n",
              "      <td>21</td>\n",
              "      <td>5</td>\n",
              "      <td>19</td>\n",
              "      <td>15</td>\n",
              "      <td>19</td>\n",
              "      <td>0</td>\n",
              "    </tr>\n",
              "    <tr>\n",
              "      <th>3</th>\n",
              "      <td>Multiple carriers</td>\n",
              "      <td>Delhi</td>\n",
              "      <td>Cochin</td>\n",
              "      <td>DEL → BOM → COK</td>\n",
              "      <td>13h</td>\n",
              "      <td>1 stop</td>\n",
              "      <td>No info</td>\n",
              "      <td>21</td>\n",
              "      <td>5</td>\n",
              "      <td>8</td>\n",
              "      <td>0</td>\n",
              "      <td>21</td>\n",
              "      <td>0</td>\n",
              "    </tr>\n",
              "    <tr>\n",
              "      <th>4</th>\n",
              "      <td>Air Asia</td>\n",
              "      <td>Banglore</td>\n",
              "      <td>Delhi</td>\n",
              "      <td>BLR → DEL</td>\n",
              "      <td>2h 50m</td>\n",
              "      <td>non-stop</td>\n",
              "      <td>No info</td>\n",
              "      <td>24</td>\n",
              "      <td>6</td>\n",
              "      <td>23</td>\n",
              "      <td>55</td>\n",
              "      <td>2</td>\n",
              "      <td>45</td>\n",
              "    </tr>\n",
              "  </tbody>\n",
              "</table>\n",
              "</div>"
            ],
            "text/plain": [
              "             Airline    Source Destination            Route Duration  \\\n",
              "0        Jet Airways     Delhi      Cochin  DEL → BOM → COK  10h 55m   \n",
              "1             IndiGo   Kolkata    Banglore  CCU → MAA → BLR       4h   \n",
              "2        Jet Airways     Delhi      Cochin  DEL → BOM → COK  23h 45m   \n",
              "3  Multiple carriers     Delhi      Cochin  DEL → BOM → COK      13h   \n",
              "4           Air Asia  Banglore       Delhi        BLR → DEL   2h 50m   \n",
              "\n",
              "  Total_Stops              Additional_Info  journey_day  journey_month  \\\n",
              "0      1 stop                      No info            6              6   \n",
              "1      1 stop                      No info            5             12   \n",
              "2      1 stop  In-flight meal not included           21              5   \n",
              "3      1 stop                      No info           21              5   \n",
              "4    non-stop                      No info           24              6   \n",
              "\n",
              "   Dep_hour  Dep_minute  Arrival_hour  Arrival_minute  \n",
              "0        17          30             4              25  \n",
              "1         6          20            10              20  \n",
              "2        19          15            19               0  \n",
              "3         8           0            21               0  \n",
              "4        23          55             2              45  "
            ]
          },
          "metadata": {},
          "execution_count": 22
        }
      ]
    },
    {
      "cell_type": "code",
      "metadata": {
        "id": "16BEmsQL-P2v"
      },
      "source": [
        "# converting Duration columns into duration_hr and duration_minute"
      ],
      "execution_count": null,
      "outputs": []
    },
    {
      "cell_type": "code",
      "metadata": {
        "id": "T0zvAdGm-P6P"
      },
      "source": [
        "duration = list(train_df['Duration'])\n",
        "duration\n",
        "for i in range(len(duration)):\n",
        "  if len(duration[i].split()) != 2:\n",
        "    if 'h' in duration[i]:\n",
        "      duration[i] = duration[i] + '0m'\n",
        "      \n",
        "    else:\n",
        "      duration[i] = '0h' + duration[i] \n",
        "      #print(duration[i])\n",
        "  #print(duration[i])\n",
        "duration_hr=[]\n",
        "duration_min=[]\n",
        "for i in range(len(duration)):\n",
        "  duration_hr.append(int(duration[i].split(sep='h')[0]))\n",
        "  duration_min.append(int(duration[i].split(sep='m')[0].split('h')[-1]))\n",
        "\n",
        "#print(duration_hr)\n",
        "#print(duration_min)\n",
        "train_df['duration_hr'] = duration_hr\n",
        "train_df['duration_min'] = duration_min\n",
        "\n",
        "\n"
      ],
      "execution_count": null,
      "outputs": []
    },
    {
      "cell_type": "code",
      "metadata": {
        "id": "tOt-djSwfaa1"
      },
      "source": [
        "duration1 = list(test_df['Duration'])\n",
        "duration1\n",
        "for i in range(len(duration1)):\n",
        "  if len(duration1[i].split()) != 2:\n",
        "    if 'h' in duration1[i]:\n",
        "      duration1[i] = duration1[i] + '0m'\n",
        "      \n",
        "    else:\n",
        "      duration1[i] = '0h' + duration1[i] \n",
        "      #print(duration[i])\n",
        "  #print(duration[i])\n",
        "duration_hr=[]\n",
        "duration_min=[]\n",
        "for i in range(len(duration1)):\n",
        "  duration_hr.append(int(duration1[i].split(sep='h')[0]))\n",
        "  duration_min.append(int(duration1[i].split(sep='m')[0].split('h')[-1]))\n",
        "\n",
        "#print(duration_hr)\n",
        "#print(duration_min)\n",
        "test_df['duration_hr'] = duration_hr\n",
        "test_df['duration_min'] = duration_min\n"
      ],
      "execution_count": null,
      "outputs": []
    },
    {
      "cell_type": "code",
      "metadata": {
        "colab": {
          "base_uri": "https://localhost:8080/",
          "height": 607
        },
        "id": "hCTmSQDqH0oz",
        "outputId": "fa72406e-bd1e-4dee-9e4e-c9e8c16a5a2e"
      },
      "source": [
        "train_df.drop('Duration',axis=1,inplace=True)\n",
        "train_df.head(5)\n"
      ],
      "execution_count": null,
      "outputs": [
        {
          "output_type": "execute_result",
          "data": {
            "text/html": [
              "<div>\n",
              "<style scoped>\n",
              "    .dataframe tbody tr th:only-of-type {\n",
              "        vertical-align: middle;\n",
              "    }\n",
              "\n",
              "    .dataframe tbody tr th {\n",
              "        vertical-align: top;\n",
              "    }\n",
              "\n",
              "    .dataframe thead th {\n",
              "        text-align: right;\n",
              "    }\n",
              "</style>\n",
              "<table border=\"1\" class=\"dataframe\">\n",
              "  <thead>\n",
              "    <tr style=\"text-align: right;\">\n",
              "      <th></th>\n",
              "      <th>Airline</th>\n",
              "      <th>Source</th>\n",
              "      <th>Destination</th>\n",
              "      <th>Route</th>\n",
              "      <th>Total_Stops</th>\n",
              "      <th>Additional_Info</th>\n",
              "      <th>Price</th>\n",
              "      <th>journey_day</th>\n",
              "      <th>journey_month</th>\n",
              "      <th>Dep_hour</th>\n",
              "      <th>Dep_minute</th>\n",
              "      <th>Arrival_hour</th>\n",
              "      <th>Arrival_minute</th>\n",
              "      <th>duration_hr</th>\n",
              "      <th>duration_min</th>\n",
              "    </tr>\n",
              "  </thead>\n",
              "  <tbody>\n",
              "    <tr>\n",
              "      <th>0</th>\n",
              "      <td>IndiGo</td>\n",
              "      <td>Banglore</td>\n",
              "      <td>New Delhi</td>\n",
              "      <td>BLR → DEL</td>\n",
              "      <td>non-stop</td>\n",
              "      <td>No info</td>\n",
              "      <td>3897</td>\n",
              "      <td>24</td>\n",
              "      <td>3</td>\n",
              "      <td>22</td>\n",
              "      <td>20</td>\n",
              "      <td>1</td>\n",
              "      <td>10</td>\n",
              "      <td>2</td>\n",
              "      <td>50</td>\n",
              "    </tr>\n",
              "    <tr>\n",
              "      <th>1</th>\n",
              "      <td>Air India</td>\n",
              "      <td>Kolkata</td>\n",
              "      <td>Banglore</td>\n",
              "      <td>CCU → IXR → BBI → BLR</td>\n",
              "      <td>2 stops</td>\n",
              "      <td>No info</td>\n",
              "      <td>7662</td>\n",
              "      <td>5</td>\n",
              "      <td>1</td>\n",
              "      <td>5</td>\n",
              "      <td>50</td>\n",
              "      <td>13</td>\n",
              "      <td>15</td>\n",
              "      <td>7</td>\n",
              "      <td>25</td>\n",
              "    </tr>\n",
              "    <tr>\n",
              "      <th>2</th>\n",
              "      <td>Jet Airways</td>\n",
              "      <td>Delhi</td>\n",
              "      <td>Cochin</td>\n",
              "      <td>DEL → LKO → BOM → COK</td>\n",
              "      <td>2 stops</td>\n",
              "      <td>No info</td>\n",
              "      <td>13882</td>\n",
              "      <td>6</td>\n",
              "      <td>9</td>\n",
              "      <td>9</td>\n",
              "      <td>25</td>\n",
              "      <td>4</td>\n",
              "      <td>25</td>\n",
              "      <td>19</td>\n",
              "      <td>0</td>\n",
              "    </tr>\n",
              "    <tr>\n",
              "      <th>3</th>\n",
              "      <td>IndiGo</td>\n",
              "      <td>Kolkata</td>\n",
              "      <td>Banglore</td>\n",
              "      <td>CCU → NAG → BLR</td>\n",
              "      <td>1 stop</td>\n",
              "      <td>No info</td>\n",
              "      <td>6218</td>\n",
              "      <td>5</td>\n",
              "      <td>12</td>\n",
              "      <td>18</td>\n",
              "      <td>5</td>\n",
              "      <td>23</td>\n",
              "      <td>30</td>\n",
              "      <td>5</td>\n",
              "      <td>25</td>\n",
              "    </tr>\n",
              "    <tr>\n",
              "      <th>4</th>\n",
              "      <td>IndiGo</td>\n",
              "      <td>Banglore</td>\n",
              "      <td>New Delhi</td>\n",
              "      <td>BLR → NAG → DEL</td>\n",
              "      <td>1 stop</td>\n",
              "      <td>No info</td>\n",
              "      <td>13302</td>\n",
              "      <td>3</td>\n",
              "      <td>1</td>\n",
              "      <td>16</td>\n",
              "      <td>50</td>\n",
              "      <td>21</td>\n",
              "      <td>35</td>\n",
              "      <td>4</td>\n",
              "      <td>45</td>\n",
              "    </tr>\n",
              "  </tbody>\n",
              "</table>\n",
              "</div>"
            ],
            "text/plain": [
              "       Airline    Source Destination                  Route Total_Stops  \\\n",
              "0       IndiGo  Banglore   New Delhi              BLR → DEL    non-stop   \n",
              "1    Air India   Kolkata    Banglore  CCU → IXR → BBI → BLR     2 stops   \n",
              "2  Jet Airways     Delhi      Cochin  DEL → LKO → BOM → COK     2 stops   \n",
              "3       IndiGo   Kolkata    Banglore        CCU → NAG → BLR      1 stop   \n",
              "4       IndiGo  Banglore   New Delhi        BLR → NAG → DEL      1 stop   \n",
              "\n",
              "  Additional_Info  Price  journey_day  journey_month  Dep_hour  Dep_minute  \\\n",
              "0         No info   3897           24              3        22          20   \n",
              "1         No info   7662            5              1         5          50   \n",
              "2         No info  13882            6              9         9          25   \n",
              "3         No info   6218            5             12        18           5   \n",
              "4         No info  13302            3              1        16          50   \n",
              "\n",
              "   Arrival_hour  Arrival_minute  duration_hr  duration_min  \n",
              "0             1              10            2            50  \n",
              "1            13              15            7            25  \n",
              "2             4              25           19             0  \n",
              "3            23              30            5            25  \n",
              "4            21              35            4            45  "
            ]
          },
          "metadata": {},
          "execution_count": 26
        }
      ]
    },
    {
      "cell_type": "code",
      "metadata": {
        "colab": {
          "base_uri": "https://localhost:8080/",
          "height": 362
        },
        "id": "kiLWVwM1gb1i",
        "outputId": "fd39b4f8-7f97-4086-b92a-966c3ab649f4"
      },
      "source": [
        "test_df.drop('Duration',axis=1,inplace=True)\n",
        "test_df.head(5)"
      ],
      "execution_count": null,
      "outputs": [
        {
          "output_type": "execute_result",
          "data": {
            "text/html": [
              "<div>\n",
              "<style scoped>\n",
              "    .dataframe tbody tr th:only-of-type {\n",
              "        vertical-align: middle;\n",
              "    }\n",
              "\n",
              "    .dataframe tbody tr th {\n",
              "        vertical-align: top;\n",
              "    }\n",
              "\n",
              "    .dataframe thead th {\n",
              "        text-align: right;\n",
              "    }\n",
              "</style>\n",
              "<table border=\"1\" class=\"dataframe\">\n",
              "  <thead>\n",
              "    <tr style=\"text-align: right;\">\n",
              "      <th></th>\n",
              "      <th>Airline</th>\n",
              "      <th>Source</th>\n",
              "      <th>Destination</th>\n",
              "      <th>Route</th>\n",
              "      <th>Total_Stops</th>\n",
              "      <th>Additional_Info</th>\n",
              "      <th>journey_day</th>\n",
              "      <th>journey_month</th>\n",
              "      <th>Dep_hour</th>\n",
              "      <th>Dep_minute</th>\n",
              "      <th>Arrival_hour</th>\n",
              "      <th>Arrival_minute</th>\n",
              "      <th>duration_hr</th>\n",
              "      <th>duration_min</th>\n",
              "    </tr>\n",
              "  </thead>\n",
              "  <tbody>\n",
              "    <tr>\n",
              "      <th>0</th>\n",
              "      <td>Jet Airways</td>\n",
              "      <td>Delhi</td>\n",
              "      <td>Cochin</td>\n",
              "      <td>DEL → BOM → COK</td>\n",
              "      <td>1 stop</td>\n",
              "      <td>No info</td>\n",
              "      <td>6</td>\n",
              "      <td>6</td>\n",
              "      <td>17</td>\n",
              "      <td>30</td>\n",
              "      <td>4</td>\n",
              "      <td>25</td>\n",
              "      <td>10</td>\n",
              "      <td>55</td>\n",
              "    </tr>\n",
              "    <tr>\n",
              "      <th>1</th>\n",
              "      <td>IndiGo</td>\n",
              "      <td>Kolkata</td>\n",
              "      <td>Banglore</td>\n",
              "      <td>CCU → MAA → BLR</td>\n",
              "      <td>1 stop</td>\n",
              "      <td>No info</td>\n",
              "      <td>5</td>\n",
              "      <td>12</td>\n",
              "      <td>6</td>\n",
              "      <td>20</td>\n",
              "      <td>10</td>\n",
              "      <td>20</td>\n",
              "      <td>4</td>\n",
              "      <td>0</td>\n",
              "    </tr>\n",
              "    <tr>\n",
              "      <th>2</th>\n",
              "      <td>Jet Airways</td>\n",
              "      <td>Delhi</td>\n",
              "      <td>Cochin</td>\n",
              "      <td>DEL → BOM → COK</td>\n",
              "      <td>1 stop</td>\n",
              "      <td>In-flight meal not included</td>\n",
              "      <td>21</td>\n",
              "      <td>5</td>\n",
              "      <td>19</td>\n",
              "      <td>15</td>\n",
              "      <td>19</td>\n",
              "      <td>0</td>\n",
              "      <td>23</td>\n",
              "      <td>45</td>\n",
              "    </tr>\n",
              "    <tr>\n",
              "      <th>3</th>\n",
              "      <td>Multiple carriers</td>\n",
              "      <td>Delhi</td>\n",
              "      <td>Cochin</td>\n",
              "      <td>DEL → BOM → COK</td>\n",
              "      <td>1 stop</td>\n",
              "      <td>No info</td>\n",
              "      <td>21</td>\n",
              "      <td>5</td>\n",
              "      <td>8</td>\n",
              "      <td>0</td>\n",
              "      <td>21</td>\n",
              "      <td>0</td>\n",
              "      <td>13</td>\n",
              "      <td>0</td>\n",
              "    </tr>\n",
              "    <tr>\n",
              "      <th>4</th>\n",
              "      <td>Air Asia</td>\n",
              "      <td>Banglore</td>\n",
              "      <td>Delhi</td>\n",
              "      <td>BLR → DEL</td>\n",
              "      <td>non-stop</td>\n",
              "      <td>No info</td>\n",
              "      <td>24</td>\n",
              "      <td>6</td>\n",
              "      <td>23</td>\n",
              "      <td>55</td>\n",
              "      <td>2</td>\n",
              "      <td>45</td>\n",
              "      <td>2</td>\n",
              "      <td>50</td>\n",
              "    </tr>\n",
              "  </tbody>\n",
              "</table>\n",
              "</div>"
            ],
            "text/plain": [
              "             Airline    Source Destination            Route Total_Stops  \\\n",
              "0        Jet Airways     Delhi      Cochin  DEL → BOM → COK      1 stop   \n",
              "1             IndiGo   Kolkata    Banglore  CCU → MAA → BLR      1 stop   \n",
              "2        Jet Airways     Delhi      Cochin  DEL → BOM → COK      1 stop   \n",
              "3  Multiple carriers     Delhi      Cochin  DEL → BOM → COK      1 stop   \n",
              "4           Air Asia  Banglore       Delhi        BLR → DEL    non-stop   \n",
              "\n",
              "               Additional_Info  journey_day  journey_month  Dep_hour  \\\n",
              "0                      No info            6              6        17   \n",
              "1                      No info            5             12         6   \n",
              "2  In-flight meal not included           21              5        19   \n",
              "3                      No info           21              5         8   \n",
              "4                      No info           24              6        23   \n",
              "\n",
              "   Dep_minute  Arrival_hour  Arrival_minute  duration_hr  duration_min  \n",
              "0          30             4              25           10            55  \n",
              "1          20            10              20            4             0  \n",
              "2          15            19               0           23            45  \n",
              "3           0            21               0           13             0  \n",
              "4          55             2              45            2            50  "
            ]
          },
          "metadata": {},
          "execution_count": 27
        }
      ]
    },
    {
      "cell_type": "code",
      "metadata": {
        "colab": {
          "base_uri": "https://localhost:8080/"
        },
        "id": "ZtMRxDH4SIQJ",
        "outputId": "4c4e6696-8fb3-4c3c-e7bb-29ff56712367"
      },
      "source": [
        "train_df['Airline'].value_counts()"
      ],
      "execution_count": null,
      "outputs": [
        {
          "output_type": "execute_result",
          "data": {
            "text/plain": [
              "Jet Airways                          3849\n",
              "IndiGo                               2053\n",
              "Air India                            1751\n",
              "Multiple carriers                    1196\n",
              "SpiceJet                              818\n",
              "Vistara                               479\n",
              "Air Asia                              319\n",
              "GoAir                                 194\n",
              "Multiple carriers Premium economy      13\n",
              "Jet Airways Business                    6\n",
              "Vistara Premium economy                 3\n",
              "Trujet                                  1\n",
              "Name: Airline, dtype: int64"
            ]
          },
          "metadata": {},
          "execution_count": 28
        }
      ]
    },
    {
      "cell_type": "code",
      "metadata": {
        "id": "Jr2LUWCySIUU"
      },
      "source": [
        "#airline = pd.get_dummies(train_df[['Airline']],drop_first=True)\n",
        "train_df['Airline'] = pd.factorize(train_df['Airline'])[0]\n",
        "test_df['Airline'] = pd.factorize(test_df['Airline'])[0]\n",
        "\n"
      ],
      "execution_count": null,
      "outputs": []
    },
    {
      "cell_type": "code",
      "metadata": {
        "colab": {
          "base_uri": "https://localhost:8080/"
        },
        "id": "wNb76QTZ-P9d",
        "outputId": "25b55c4d-04f0-4d4d-ca70-c68ec0fbed85"
      },
      "source": [
        "train_df['Source'].value_counts()"
      ],
      "execution_count": null,
      "outputs": [
        {
          "output_type": "execute_result",
          "data": {
            "text/plain": [
              "Delhi       4536\n",
              "Kolkata     2871\n",
              "Banglore    2197\n",
              "Mumbai       697\n",
              "Chennai      381\n",
              "Name: Source, dtype: int64"
            ]
          },
          "metadata": {},
          "execution_count": 30
        }
      ]
    },
    {
      "cell_type": "code",
      "metadata": {
        "colab": {
          "base_uri": "https://localhost:8080/",
          "height": 53
        },
        "id": "mHyWaftV-QAq",
        "outputId": "85e175c1-3b2c-4c6e-cc5b-d89276105149"
      },
      "source": [
        "source = pd.get_dummies(train_df[['Source']],drop_first = True)\n",
        "source.head(5)\n",
        "'''\n",
        "l1 = OneHotEncoder(sparse=False,handle_unknown='ignore')\n",
        "source = l1.fit_transform(train_df[['Source']])\n",
        "d = pd.DataFrame(source,index=train_df.index,columns=l1.categories_[0])\n",
        "d.head(5)\n",
        "new_df = train_df.join(d)\n",
        "new_df\n",
        "'''"
      ],
      "execution_count": null,
      "outputs": [
        {
          "output_type": "execute_result",
          "data": {
            "application/vnd.google.colaboratory.intrinsic+json": {
              "type": "string"
            },
            "text/plain": [
              "\"\\nl1 = OneHotEncoder(sparse=False,handle_unknown='ignore')\\nsource = l1.fit_transform(train_df[['Source']])\\nd = pd.DataFrame(source,index=train_df.index,columns=l1.categories_[0])\\nd.head(5)\\nnew_df = train_df.join(d)\\nnew_df\\n\""
            ]
          },
          "metadata": {},
          "execution_count": 31
        }
      ]
    },
    {
      "cell_type": "code",
      "metadata": {
        "id": "EBzqcKmMhRIn"
      },
      "source": [
        "#airline1 = pd.get_dummies(test_df[['Airline']],drop_first=True)\n",
        "source1 = pd.get_dummies(test_df[['Source']],drop_first=True)\n",
        "destination1 = pd.get_dummies(test_df[['Destination']],drop_first=True)\n",
        "\n"
      ],
      "execution_count": null,
      "outputs": []
    },
    {
      "cell_type": "code",
      "metadata": {
        "colab": {
          "base_uri": "https://localhost:8080/",
          "height": 455
        },
        "id": "TXZ4IHI-bJ9r",
        "outputId": "4761905f-8a3f-481c-dfbb-9a9830f0831d"
      },
      "source": [
        "import seaborn as sns\n",
        "import matplotlib.pyplot as plt\n",
        "sns.catplot(x='Source',y='Price',data = train_df.sort_values('Price',ascending=False),kind='boxen',height=6,aspect=3)\n",
        "plt.show()"
      ],
      "execution_count": null,
      "outputs": [
        {
          "output_type": "display_data",
          "data": {
            "image/png": "[encoded data removed]",
            "text/plain": [
              "<Figure size 1296x432 with 1 Axes>"
            ]
          },
          "metadata": {
            "needs_background": "light"
          }
        }
      ]
    },
    {
      "cell_type": "code",
      "metadata": {
        "colab": {
          "base_uri": "https://localhost:8080/"
        },
        "id": "mdMzLSRq-QDx",
        "outputId": "b4ea37c0-6f56-4507-8233-2dbb3f173bfd"
      },
      "source": [
        "train_df['Destination'].value_counts()"
      ],
      "execution_count": null,
      "outputs": [
        {
          "output_type": "execute_result",
          "data": {
            "text/plain": [
              "Cochin       4536\n",
              "Banglore     2871\n",
              "Delhi        1265\n",
              "New Delhi     932\n",
              "Hyderabad     697\n",
              "Kolkata       381\n",
              "Name: Destination, dtype: int64"
            ]
          },
          "metadata": {},
          "execution_count": 34
        }
      ]
    },
    {
      "cell_type": "code",
      "metadata": {
        "id": "1UQFzgaoZzaF"
      },
      "source": [
        "destination = pd.get_dummies(train_df[['Destination']],drop_first=True)"
      ],
      "execution_count": null,
      "outputs": []
    },
    {
      "cell_type": "code",
      "metadata": {
        "colab": {
          "base_uri": "https://localhost:8080/",
          "height": 455
        },
        "id": "g6eFSc6ic2ET",
        "outputId": "264f1165-a479-41b0-86e0-61433686db72"
      },
      "source": [
        "sns.catplot(x='Destination',y='Price',data=train_df.sort_values('Price',ascending=False),kind = 'boxen',height=6,aspect=3)\n",
        "plt.show()"
      ],
      "execution_count": null,
      "outputs": [
        {
          "output_type": "display_data",
          "data": {
            "image/png": "[encoded data removed]",
            "text/plain": [
              "<Figure size 1296x432 with 1 Axes>"
            ]
          },
          "metadata": {
            "needs_background": "light"
          }
        }
      ]
    },
    {
      "cell_type": "code",
      "metadata": {
        "colab": {
          "base_uri": "https://localhost:8080/"
        },
        "id": "Gg1rdL0CZzd8",
        "outputId": "42a06454-fe23-4c5e-b9e5-bc381aacc260"
      },
      "source": [
        "train_df['Route'].value_counts()"
      ],
      "execution_count": null,
      "outputs": [
        {
          "output_type": "execute_result",
          "data": {
            "text/plain": [
              "DEL → BOM → COK                      2376\n",
              "BLR → DEL                            1552\n",
              "CCU → BOM → BLR                       979\n",
              "CCU → BLR                             724\n",
              "BOM → HYD                             621\n",
              "                                     ... \n",
              "BOM → RPR → VTZ → HYD                   1\n",
              "BOM → COK → MAA → HYD                   1\n",
              "BOM → JDH → JAI → DEL → HYD             1\n",
              "BLR → CCU → BBI → HYD → VGA → DEL       1\n",
              "BLR → HBX → BOM → BHO → DEL             1\n",
              "Name: Route, Length: 128, dtype: int64"
            ]
          },
          "metadata": {},
          "execution_count": 37
        }
      ]
    },
    {
      "cell_type": "code",
      "metadata": {
        "colab": {
          "base_uri": "https://localhost:8080/"
        },
        "id": "XB3J9epYZzg9",
        "outputId": "67d01996-8afa-41bb-ec5b-8f948e60f276"
      },
      "source": [
        "train_df['Total_Stops'].value_counts()"
      ],
      "execution_count": null,
      "outputs": [
        {
          "output_type": "execute_result",
          "data": {
            "text/plain": [
              "1 stop      5625\n",
              "non-stop    3491\n",
              "2 stops     1520\n",
              "3 stops       45\n",
              "4 stops        1\n",
              "Name: Total_Stops, dtype: int64"
            ]
          },
          "metadata": {},
          "execution_count": 38
        }
      ]
    },
    {
      "cell_type": "code",
      "metadata": {
        "id": "a6i4jUZXZzkR"
      },
      "source": [
        "train_df.drop(['Route','Additional_Info'],axis=1,inplace=True)\n",
        "test_df.drop(['Route','Additional_Info'],axis=1,inplace=True)\n"
      ],
      "execution_count": null,
      "outputs": []
    },
    {
      "cell_type": "code",
      "metadata": {
        "colab": {
          "base_uri": "https://localhost:8080/",
          "height": 206
        },
        "id": "ZAWk_GQiha2y",
        "outputId": "b96f22ee-ba7e-4892-cba9-a8142ce31144"
      },
      "source": [
        "train_df.replace({'non-stop':0,'1 stop':1,'2 stops':2,'3 stops':3,'4 stops':4},inplace=True)\n",
        "test_df.replace({'non-stop':0,'1 stop':1,'2 stops':2,'3 stops':3,'4 stops':4},inplace=True)\n",
        "train_df.head(5)\n",
        "test_df.head(5)"
      ],
      "execution_count": null,
      "outputs": [
        {
          "output_type": "execute_result",
          "data": {
            "text/html": [
              "<div>\n",
              "<style scoped>\n",
              "    .dataframe tbody tr th:only-of-type {\n",
              "        vertical-align: middle;\n",
              "    }\n",
              "\n",
              "    .dataframe tbody tr th {\n",
              "        vertical-align: top;\n",
              "    }\n",
              "\n",
              "    .dataframe thead th {\n",
              "        text-align: right;\n",
              "    }\n",
              "</style>\n",
              "<table border=\"1\" class=\"dataframe\">\n",
              "  <thead>\n",
              "    <tr style=\"text-align: right;\">\n",
              "      <th></th>\n",
              "      <th>Airline</th>\n",
              "      <th>Source</th>\n",
              "      <th>Destination</th>\n",
              "      <th>Total_Stops</th>\n",
              "      <th>journey_day</th>\n",
              "      <th>journey_month</th>\n",
              "      <th>Dep_hour</th>\n",
              "      <th>Dep_minute</th>\n",
              "      <th>Arrival_hour</th>\n",
              "      <th>Arrival_minute</th>\n",
              "      <th>duration_hr</th>\n",
              "      <th>duration_min</th>\n",
              "    </tr>\n",
              "  </thead>\n",
              "  <tbody>\n",
              "    <tr>\n",
              "      <th>0</th>\n",
              "      <td>0</td>\n",
              "      <td>Delhi</td>\n",
              "      <td>Cochin</td>\n",
              "      <td>1</td>\n",
              "      <td>6</td>\n",
              "      <td>6</td>\n",
              "      <td>17</td>\n",
              "      <td>30</td>\n",
              "      <td>4</td>\n",
              "      <td>25</td>\n",
              "      <td>10</td>\n",
              "      <td>55</td>\n",
              "    </tr>\n",
              "    <tr>\n",
              "      <th>1</th>\n",
              "      <td>1</td>\n",
              "      <td>Kolkata</td>\n",
              "      <td>Banglore</td>\n",
              "      <td>1</td>\n",
              "      <td>5</td>\n",
              "      <td>12</td>\n",
              "      <td>6</td>\n",
              "      <td>20</td>\n",
              "      <td>10</td>\n",
              "      <td>20</td>\n",
              "      <td>4</td>\n",
              "      <td>0</td>\n",
              "    </tr>\n",
              "    <tr>\n",
              "      <th>2</th>\n",
              "      <td>0</td>\n",
              "      <td>Delhi</td>\n",
              "      <td>Cochin</td>\n",
              "      <td>1</td>\n",
              "      <td>21</td>\n",
              "      <td>5</td>\n",
              "      <td>19</td>\n",
              "      <td>15</td>\n",
              "      <td>19</td>\n",
              "      <td>0</td>\n",
              "      <td>23</td>\n",
              "      <td>45</td>\n",
              "    </tr>\n",
              "    <tr>\n",
              "      <th>3</th>\n",
              "      <td>2</td>\n",
              "      <td>Delhi</td>\n",
              "      <td>Cochin</td>\n",
              "      <td>1</td>\n",
              "      <td>21</td>\n",
              "      <td>5</td>\n",
              "      <td>8</td>\n",
              "      <td>0</td>\n",
              "      <td>21</td>\n",
              "      <td>0</td>\n",
              "      <td>13</td>\n",
              "      <td>0</td>\n",
              "    </tr>\n",
              "    <tr>\n",
              "      <th>4</th>\n",
              "      <td>3</td>\n",
              "      <td>Banglore</td>\n",
              "      <td>Delhi</td>\n",
              "      <td>0</td>\n",
              "      <td>24</td>\n",
              "      <td>6</td>\n",
              "      <td>23</td>\n",
              "      <td>55</td>\n",
              "      <td>2</td>\n",
              "      <td>45</td>\n",
              "      <td>2</td>\n",
              "      <td>50</td>\n",
              "    </tr>\n",
              "  </tbody>\n",
              "</table>\n",
              "</div>"
            ],
            "text/plain": [
              "   Airline    Source Destination  Total_Stops  journey_day  journey_month  \\\n",
              "0        0     Delhi      Cochin            1            6              6   \n",
              "1        1   Kolkata    Banglore            1            5             12   \n",
              "2        0     Delhi      Cochin            1           21              5   \n",
              "3        2     Delhi      Cochin            1           21              5   \n",
              "4        3  Banglore       Delhi            0           24              6   \n",
              "\n",
              "   Dep_hour  Dep_minute  Arrival_hour  Arrival_minute  duration_hr  \\\n",
              "0        17          30             4              25           10   \n",
              "1         6          20            10              20            4   \n",
              "2        19          15            19               0           23   \n",
              "3         8           0            21               0           13   \n",
              "4        23          55             2              45            2   \n",
              "\n",
              "   duration_min  \n",
              "0            55  \n",
              "1             0  \n",
              "2            45  \n",
              "3             0  \n",
              "4            50  "
            ]
          },
          "metadata": {},
          "execution_count": 40
        }
      ]
    },
    {
      "cell_type": "code",
      "metadata": {
        "id": "Dd87kflfha_7"
      },
      "source": [
        "data_train=pd.concat([train_df,source,destination],axis=1)\n",
        "\n",
        "\n",
        "data_test = pd.concat([test_df,source1,destination1],axis=1)\n"
      ],
      "execution_count": null,
      "outputs": []
    },
    {
      "cell_type": "code",
      "metadata": {
        "id": "GpmYjFJric0L"
      },
      "source": [
        "data_train.drop(['Source','Destination'],axis=1,inplace=True)\n",
        "data_test.drop(['Source','Destination'],axis=1,inplace=True)\n"
      ],
      "execution_count": null,
      "outputs": []
    },
    {
      "cell_type": "code",
      "metadata": {
        "id": "C5k47tZ-i8Ld",
        "colab": {
          "base_uri": "https://localhost:8080/"
        },
        "outputId": "d04115d7-2dd2-45e1-b583-c46d1c232179"
      },
      "source": [
        "data_train.info()\n",
        "\n",
        "#data_train.shape"
      ],
      "execution_count": null,
      "outputs": [
        {
          "output_type": "stream",
          "text": [
            "<class 'pandas.core.frame.DataFrame'>\n",
            "Int64Index: 10682 entries, 0 to 10682\n",
            "Data columns (total 20 columns):\n",
            " #   Column                 Non-Null Count  Dtype\n",
            "---  ------                 --------------  -----\n",
            " 0   Airline                10682 non-null  int64\n",
            " 1   Total_Stops            10682 non-null  int64\n",
            " 2   Price                  10682 non-null  int64\n",
            " 3   journey_day            10682 non-null  int64\n",
            " 4   journey_month          10682 non-null  int64\n",
            " 5   Dep_hour               10682 non-null  int64\n",
            " 6   Dep_minute             10682 non-null  int64\n",
            " 7   Arrival_hour           10682 non-null  int64\n",
            " 8   Arrival_minute         10682 non-null  int64\n",
            " 9   duration_hr            10682 non-null  int64\n",
            " 10  duration_min           10682 non-null  int64\n",
            " 11  Source_Chennai         10682 non-null  uint8\n",
            " 12  Source_Delhi           10682 non-null  uint8\n",
            " 13  Source_Kolkata         10682 non-null  uint8\n",
            " 14  Source_Mumbai          10682 non-null  uint8\n",
            " 15  Destination_Cochin     10682 non-null  uint8\n",
            " 16  Destination_Delhi      10682 non-null  uint8\n",
            " 17  Destination_Hyderabad  10682 non-null  uint8\n",
            " 18  Destination_Kolkata    10682 non-null  uint8\n",
            " 19  Destination_New Delhi  10682 non-null  uint8\n",
            "dtypes: int64(11), uint8(9)\n",
            "memory usage: 1.1 MB\n"
          ],
          "name": "stdout"
        }
      ]
    },
    {
      "cell_type": "code",
      "metadata": {
        "colab": {
          "base_uri": "https://localhost:8080/"
        },
        "id": "fmjoAFYojFrp",
        "outputId": "b2d4a75c-2a58-49e9-a4a1-01b892c339f2"
      },
      "source": [
        "y = data_train.Price\n",
        "\n",
        "data = pd.concat([data_train.drop(['Price'],axis=1),data_test])\n",
        "data.info()\n",
        "#data_test.shape"
      ],
      "execution_count": null,
      "outputs": [
        {
          "output_type": "stream",
          "text": [
            "<class 'pandas.core.frame.DataFrame'>\n",
            "Int64Index: 13353 entries, 0 to 2670\n",
            "Data columns (total 19 columns):\n",
            " #   Column                 Non-Null Count  Dtype\n",
            "---  ------                 --------------  -----\n",
            " 0   Airline                13353 non-null  int64\n",
            " 1   Total_Stops            13353 non-null  int64\n",
            " 2   journey_day            13353 non-null  int64\n",
            " 3   journey_month          13353 non-null  int64\n",
            " 4   Dep_hour               13353 non-null  int64\n",
            " 5   Dep_minute             13353 non-null  int64\n",
            " 6   Arrival_hour           13353 non-null  int64\n",
            " 7   Arrival_minute         13353 non-null  int64\n",
            " 8   duration_hr            13353 non-null  int64\n",
            " 9   duration_min           13353 non-null  int64\n",
            " 10  Source_Chennai         13353 non-null  uint8\n",
            " 11  Source_Delhi           13353 non-null  uint8\n",
            " 12  Source_Kolkata         13353 non-null  uint8\n",
            " 13  Source_Mumbai          13353 non-null  uint8\n",
            " 14  Destination_Cochin     13353 non-null  uint8\n",
            " 15  Destination_Delhi      13353 non-null  uint8\n",
            " 16  Destination_Hyderabad  13353 non-null  uint8\n",
            " 17  Destination_Kolkata    13353 non-null  uint8\n",
            " 18  Destination_New Delhi  13353 non-null  uint8\n",
            "dtypes: int64(10), uint8(9)\n",
            "memory usage: 1.2 MB\n"
          ],
          "name": "stdout"
        }
      ]
    },
    {
      "cell_type": "code",
      "metadata": {
        "colab": {
          "base_uri": "https://localhost:8080/"
        },
        "id": "o0BPeaV7Wz1u",
        "outputId": "441c1414-e67c-4965-bda3-7f78f54cfb03"
      },
      "source": [
        "data.shape\n",
        "\n",
        "#y.shape\n",
        "\n",
        "\n",
        "\n",
        "\n",
        "#from sklearn.model_selection import train_test_split\n",
        "#X= data_train.drop(['Price'],axis=1)\n",
        "#y=data_train['Price']"
      ],
      "execution_count": null,
      "outputs": [
        {
          "output_type": "execute_result",
          "data": {
            "text/plain": [
              "(13353, 19)"
            ]
          },
          "metadata": {},
          "execution_count": 45
        }
      ]
    },
    {
      "cell_type": "code",
      "metadata": {
        "colab": {
          "base_uri": "https://localhost:8080/"
        },
        "id": "lCmZkAm7XBRb",
        "outputId": "e7e2056d-176d-4c8d-b9be-8525ed05f48e"
      },
      "source": [
        "\n",
        "train1 = data[0:10682]\n",
        "test1 = data[10682:]\n",
        "X = train1\n",
        "y = data_train.Price\n",
        "\n",
        "X.shape\n",
        "\n",
        "#X_train,X_test,y_train,y_test = train_test_split(X,y,test_size = 0.2,random_state=5)\n"
      ],
      "execution_count": null,
      "outputs": [
        {
          "output_type": "execute_result",
          "data": {
            "text/plain": [
              "(10682, 19)"
            ]
          },
          "metadata": {},
          "execution_count": 46
        }
      ]
    },
    {
      "cell_type": "code",
      "metadata": {
        "colab": {
          "base_uri": "https://localhost:8080/"
        },
        "id": "maAJ49tLYXfx",
        "outputId": "975546fe-da3d-48bc-c8d5-cf9dad09f467"
      },
      "source": [
        "#y.shape\n",
        "from sklearn.ensemble import RandomForestRegressor\n",
        "rd = RandomForestRegressor()\n",
        "rd.fit(X,y)"
      ],
      "execution_count": null,
      "outputs": [
        {
          "output_type": "execute_result",
          "data": {
            "text/plain": [
              "RandomForestRegressor(bootstrap=True, ccp_alpha=0.0, criterion='mse',\n",
              "                      max_depth=None, max_features='auto', max_leaf_nodes=None,\n",
              "                      max_samples=None, min_impurity_decrease=0.0,\n",
              "                      min_impurity_split=None, min_samples_leaf=1,\n",
              "                      min_samples_split=2, min_weight_fraction_leaf=0.0,\n",
              "                      n_estimators=100, n_jobs=None, oob_score=False,\n",
              "                      random_state=None, verbose=0, warm_start=False)"
            ]
          },
          "metadata": {},
          "execution_count": 47
        }
      ]
    },
    {
      "cell_type": "code",
      "metadata": {
        "colab": {
          "base_uri": "https://localhost:8080/"
        },
        "id": "YIN2-UhYXBp1",
        "outputId": "e9616be2-fb5f-433e-d25b-1df6d43eb453"
      },
      "source": [
        "pred = rd.predict(test1)\n",
        "pred"
      ],
      "execution_count": null,
      "outputs": [
        {
          "output_type": "execute_result",
          "data": {
            "text/plain": [
              "array([ 6095.27      ,  8113.236     ,  7302.33      , ...,\n",
              "       13609.44      , 13652.95      , 11514.36066667])"
            ]
          },
          "metadata": {},
          "execution_count": 48
        }
      ]
    },
    {
      "cell_type": "code",
      "metadata": {
        "colab": {
          "base_uri": "https://localhost:8080/"
        },
        "id": "hPyOSHPxYvqI",
        "outputId": "2c0a4d85-bd14-4c18-e566-e272a96161dd"
      },
      "source": [
        "#pred_test = rd.predict(data_test)\n",
        "#pred_test\n",
        "accuracy = rd.score(X,y)\n",
        "accuracy"
      ],
      "execution_count": null,
      "outputs": [
        {
          "output_type": "execute_result",
          "data": {
            "text/plain": [
              "0.9465415696531972"
            ]
          },
          "metadata": {},
          "execution_count": 49
        }
      ]
    },
    {
      "cell_type": "code",
      "metadata": {
        "colab": {
          "base_uri": "https://localhost:8080/"
        },
        "id": "pFvUQVCxRtvV",
        "outputId": "58af06c3-04ae-47b5-db97-70ae8b6932d7"
      },
      "source": [
        "from sklearn.model_selection import train_test_split\n",
        "X_train,X_test,y_train,y_test = train_test_split(X,y,test_size=0.20,random_state=42)\n",
        "rd.fit(X_train,y_train)\n"
      ],
      "execution_count": null,
      "outputs": [
        {
          "output_type": "execute_result",
          "data": {
            "text/plain": [
              "RandomForestRegressor(bootstrap=True, ccp_alpha=0.0, criterion='mse',\n",
              "                      max_depth=None, max_features='auto', max_leaf_nodes=None,\n",
              "                      max_samples=None, min_impurity_decrease=0.0,\n",
              "                      min_impurity_split=None, min_samples_leaf=1,\n",
              "                      min_samples_split=2, min_weight_fraction_leaf=0.0,\n",
              "                      n_estimators=100, n_jobs=None, oob_score=False,\n",
              "                      random_state=None, verbose=0, warm_start=False)"
            ]
          },
          "metadata": {},
          "execution_count": 50
        }
      ]
    },
    {
      "cell_type": "code",
      "metadata": {
        "colab": {
          "base_uri": "https://localhost:8080/"
        },
        "id": "L4RzuA2zRuWc",
        "outputId": "7b192b94-2ac9-4267-f58d-7be017d1868d"
      },
      "source": [
        "y_pred = rd.predict(X_test)\n",
        "y_pred"
      ],
      "execution_count": null,
      "outputs": [
        {
          "output_type": "execute_result",
          "data": {
            "text/plain": [
              "array([16750.33      ,  6127.85      ,  8926.79      , ...,\n",
              "        6894.35      , 12769.43116667, 13160.59983333])"
            ]
          },
          "metadata": {},
          "execution_count": 51
        }
      ]
    },
    {
      "cell_type": "code",
      "metadata": {
        "colab": {
          "base_uri": "https://localhost:8080/"
        },
        "id": "9__ouCOFKkja",
        "outputId": "3ec9aa0b-13d0-49d7-e12d-91e95b72aa75"
      },
      "source": [
        "rd.score(X_test,y_test)\n"
      ],
      "execution_count": null,
      "outputs": [
        {
          "output_type": "execute_result",
          "data": {
            "text/plain": [
              "0.7852884470819531"
            ]
          },
          "metadata": {},
          "execution_count": 53
        }
      ]
    },
    {
      "cell_type": "code",
      "metadata": {
        "colab": {
          "base_uri": "https://localhost:8080/"
        },
        "id": "YKBhWwugQeIO",
        "outputId": "14cf1b0c-f208-4bf7-d02b-1977059bc7a5"
      },
      "source": [
        "features1 = pd.Series(rd.feature_importances_,index = train1.columns)\n",
        "features1"
      ],
      "execution_count": null,
      "outputs": [
        {
          "output_type": "execute_result",
          "data": {
            "text/plain": [
              "Airline                  0.163998\n",
              "Total_Stops              0.033167\n",
              "journey_day              0.131518\n",
              "journey_month            0.066584\n",
              "Dep_hour                 0.029616\n",
              "Dep_minute               0.027140\n",
              "Arrival_hour             0.034286\n",
              "Arrival_minute           0.022645\n",
              "duration_hr              0.445710\n",
              "duration_min             0.024632\n",
              "Source_Chennai           0.000660\n",
              "Source_Delhi             0.002478\n",
              "Source_Kolkata           0.007021\n",
              "Source_Mumbai            0.001341\n",
              "Destination_Cochin       0.002436\n",
              "Destination_Delhi        0.000253\n",
              "Destination_Hyderabad    0.001319\n",
              "Destination_Kolkata      0.000573\n",
              "Destination_New Delhi    0.004621\n",
              "dtype: float64"
            ]
          },
          "metadata": {},
          "execution_count": 65
        }
      ]
    },
    {
      "cell_type": "code",
      "metadata": {
        "colab": {
          "base_uri": "https://localhost:8080/",
          "height": 265
        },
        "id": "7qfszdYnUYgM",
        "outputId": "cc6e053d-932f-4c21-80bb-6212978e81ab"
      },
      "source": [
        "#good for classification problem\n",
        "import matplotlib.pyplot as plt\n",
        "import seaborn as sns\n",
        "sns.barplot(x=features,y = features1.index)\n",
        "plt.show()\n"
      ],
      "execution_count": null,
      "outputs": [
        {
          "output_type": "display_data",
          "data": {
            "image/png": "[encoded data removed]",
            "text/plain": [
              "<Figure size 432x288 with 1 Axes>"
            ]
          },
          "metadata": {
            "needs_background": "light"
          }
        }
      ]
    },
    {
      "cell_type": "code",
      "metadata": {
        "colab": {
          "base_uri": "https://localhost:8080/"
        },
        "id": "GXrLae18KlF9",
        "outputId": "d707c888-4759-456f-f1ac-2250e690e2d7"
      },
      "source": [
        "import numpy as np\n",
        "from sklearn.model_selection import RandomizedSearchCV\n",
        "random_grid ={\n",
        "    'n_estimators': [int(x) for x in np.linspace(100,1200,num=12)],\n",
        "    'max_features': ['auto','sqrt'],\n",
        "    'max_depth':[int(x) for x in np.linspace(5,30,num=6)],\n",
        "    'min_samples_split':[2,5,10,15],\n",
        "    'min_samples_leaf':[1,2,5,10]\n",
        "}\n",
        "cv = RandomizedSearchCV(estimator = rd,param_distributions = random_grid,cv=5,verbose=2,n_iter=50,random_state = 40)\n",
        "cv.fit(X_train,y_train)"
      ],
      "execution_count": null,
      "outputs": [
        {
          "output_type": "stream",
          "text": [
            "Fitting 5 folds for each of 50 candidates, totalling 250 fits\n",
            "[CV] n_estimators=200, min_samples_split=2, min_samples_leaf=2, max_features=sqrt, max_depth=20 \n"
          ],
          "name": "stdout"
        },
        {
          "output_type": "stream",
          "text": [
            "[Parallel(n_jobs=1)]: Using backend SequentialBackend with 1 concurrent workers.\n"
          ],
          "name": "stderr"
        },
        {
          "output_type": "stream",
          "text": [
            "[CV]  n_estimators=200, min_samples_split=2, min_samples_leaf=2, max_features=sqrt, max_depth=20, total=   1.5s\n",
            "[CV] n_estimators=200, min_samples_split=2, min_samples_leaf=2, max_features=sqrt, max_depth=20 \n"
          ],
          "name": "stdout"
        },
        {
          "output_type": "stream",
          "text": [
            "[Parallel(n_jobs=1)]: Done   1 out of   1 | elapsed:    1.5s remaining:    0.0s\n"
          ],
          "name": "stderr"
        },
        {
          "output_type": "stream",
          "text": [
            "[CV]  n_estimators=200, min_samples_split=2, min_samples_leaf=2, max_features=sqrt, max_depth=20, total=   1.4s\n",
            "[CV] n_estimators=200, min_samples_split=2, min_samples_leaf=2, max_features=sqrt, max_depth=20 \n",
            "[CV]  n_estimators=200, min_samples_split=2, min_samples_leaf=2, max_features=sqrt, max_depth=20, total=   1.4s\n",
            "[CV] n_estimators=200, min_samples_split=2, min_samples_leaf=2, max_features=sqrt, max_depth=20 \n",
            "[CV]  n_estimators=200, min_samples_split=2, min_samples_leaf=2, max_features=sqrt, max_depth=20, total=   1.5s\n",
            "[CV] n_estimators=200, min_samples_split=2, min_samples_leaf=2, max_features=sqrt, max_depth=20 \n",
            "[CV]  n_estimators=200, min_samples_split=2, min_samples_leaf=2, max_features=sqrt, max_depth=20, total=   1.5s\n",
            "[CV] n_estimators=300, min_samples_split=2, min_samples_leaf=10, max_features=auto, max_depth=30 \n",
            "[CV]  n_estimators=300, min_samples_split=2, min_samples_leaf=10, max_features=auto, max_depth=30, total=   4.7s\n",
            "[CV] n_estimators=300, min_samples_split=2, min_samples_leaf=10, max_features=auto, max_depth=30 \n",
            "[CV]  n_estimators=300, min_samples_split=2, min_samples_leaf=10, max_features=auto, max_depth=30, total=   4.7s\n",
            "[CV] n_estimators=300, min_samples_split=2, min_samples_leaf=10, max_features=auto, max_depth=30 \n",
            "[CV]  n_estimators=300, min_samples_split=2, min_samples_leaf=10, max_features=auto, max_depth=30, total=   4.7s\n",
            "[CV] n_estimators=300, min_samples_split=2, min_samples_leaf=10, max_features=auto, max_depth=30 \n",
            "[CV]  n_estimators=300, min_samples_split=2, min_samples_leaf=10, max_features=auto, max_depth=30, total=   4.7s\n",
            "[CV] n_estimators=300, min_samples_split=2, min_samples_leaf=10, max_features=auto, max_depth=30 \n",
            "[CV]  n_estimators=300, min_samples_split=2, min_samples_leaf=10, max_features=auto, max_depth=30, total=   4.7s\n",
            "[CV] n_estimators=800, min_samples_split=5, min_samples_leaf=5, max_features=sqrt, max_depth=5 \n",
            "[CV]  n_estimators=800, min_samples_split=5, min_samples_leaf=5, max_features=sqrt, max_depth=5, total=   2.5s\n",
            "[CV] n_estimators=800, min_samples_split=5, min_samples_leaf=5, max_features=sqrt, max_depth=5 \n",
            "[CV]  n_estimators=800, min_samples_split=5, min_samples_leaf=5, max_features=sqrt, max_depth=5, total=   2.5s\n",
            "[CV] n_estimators=800, min_samples_split=5, min_samples_leaf=5, max_features=sqrt, max_depth=5 \n",
            "[CV]  n_estimators=800, min_samples_split=5, min_samples_leaf=5, max_features=sqrt, max_depth=5, total=   2.6s\n",
            "[CV] n_estimators=800, min_samples_split=5, min_samples_leaf=5, max_features=sqrt, max_depth=5 \n",
            "[CV]  n_estimators=800, min_samples_split=5, min_samples_leaf=5, max_features=sqrt, max_depth=5, total=   2.5s\n",
            "[CV] n_estimators=800, min_samples_split=5, min_samples_leaf=5, max_features=sqrt, max_depth=5 \n",
            "[CV]  n_estimators=800, min_samples_split=5, min_samples_leaf=5, max_features=sqrt, max_depth=5, total=   2.5s\n",
            "[CV] n_estimators=300, min_samples_split=5, min_samples_leaf=10, max_features=auto, max_depth=15 \n",
            "[CV]  n_estimators=300, min_samples_split=5, min_samples_leaf=10, max_features=auto, max_depth=15, total=   4.6s\n",
            "[CV] n_estimators=300, min_samples_split=5, min_samples_leaf=10, max_features=auto, max_depth=15 \n",
            "[CV]  n_estimators=300, min_samples_split=5, min_samples_leaf=10, max_features=auto, max_depth=15, total=   4.6s\n",
            "[CV] n_estimators=300, min_samples_split=5, min_samples_leaf=10, max_features=auto, max_depth=15 \n",
            "[CV]  n_estimators=300, min_samples_split=5, min_samples_leaf=10, max_features=auto, max_depth=15, total=   4.6s\n",
            "[CV] n_estimators=300, min_samples_split=5, min_samples_leaf=10, max_features=auto, max_depth=15 \n",
            "[CV]  n_estimators=300, min_samples_split=5, min_samples_leaf=10, max_features=auto, max_depth=15, total=   4.6s\n",
            "[CV] n_estimators=300, min_samples_split=5, min_samples_leaf=10, max_features=auto, max_depth=15 \n",
            "[CV]  n_estimators=300, min_samples_split=5, min_samples_leaf=10, max_features=auto, max_depth=15, total=   4.6s\n",
            "[CV] n_estimators=400, min_samples_split=15, min_samples_leaf=10, max_features=auto, max_depth=25 \n",
            "[CV]  n_estimators=400, min_samples_split=15, min_samples_leaf=10, max_features=auto, max_depth=25, total=   6.2s\n",
            "[CV] n_estimators=400, min_samples_split=15, min_samples_leaf=10, max_features=auto, max_depth=25 \n",
            "[CV]  n_estimators=400, min_samples_split=15, min_samples_leaf=10, max_features=auto, max_depth=25, total=   6.3s\n",
            "[CV] n_estimators=400, min_samples_split=15, min_samples_leaf=10, max_features=auto, max_depth=25 \n",
            "[CV]  n_estimators=400, min_samples_split=15, min_samples_leaf=10, max_features=auto, max_depth=25, total=   6.2s\n",
            "[CV] n_estimators=400, min_samples_split=15, min_samples_leaf=10, max_features=auto, max_depth=25 \n",
            "[CV]  n_estimators=400, min_samples_split=15, min_samples_leaf=10, max_features=auto, max_depth=25, total=   6.2s\n",
            "[CV] n_estimators=400, min_samples_split=15, min_samples_leaf=10, max_features=auto, max_depth=25 \n",
            "[CV]  n_estimators=400, min_samples_split=15, min_samples_leaf=10, max_features=auto, max_depth=25, total=   6.3s\n",
            "[CV] n_estimators=800, min_samples_split=15, min_samples_leaf=2, max_features=auto, max_depth=15 \n",
            "[CV]  n_estimators=800, min_samples_split=15, min_samples_leaf=2, max_features=auto, max_depth=15, total=  13.8s\n",
            "[CV] n_estimators=800, min_samples_split=15, min_samples_leaf=2, max_features=auto, max_depth=15 \n",
            "[CV]  n_estimators=800, min_samples_split=15, min_samples_leaf=2, max_features=auto, max_depth=15, total=  13.8s\n",
            "[CV] n_estimators=800, min_samples_split=15, min_samples_leaf=2, max_features=auto, max_depth=15 \n",
            "[CV]  n_estimators=800, min_samples_split=15, min_samples_leaf=2, max_features=auto, max_depth=15, total=  13.7s\n",
            "[CV] n_estimators=800, min_samples_split=15, min_samples_leaf=2, max_features=auto, max_depth=15 \n",
            "[CV]  n_estimators=800, min_samples_split=15, min_samples_leaf=2, max_features=auto, max_depth=15, total=  13.7s\n",
            "[CV] n_estimators=800, min_samples_split=15, min_samples_leaf=2, max_features=auto, max_depth=15 \n",
            "[CV]  n_estimators=800, min_samples_split=15, min_samples_leaf=2, max_features=auto, max_depth=15, total=  13.7s\n",
            "[CV] n_estimators=700, min_samples_split=2, min_samples_leaf=1, max_features=sqrt, max_depth=25 \n",
            "[CV]  n_estimators=700, min_samples_split=2, min_samples_leaf=1, max_features=sqrt, max_depth=25, total=   6.6s\n",
            "[CV] n_estimators=700, min_samples_split=2, min_samples_leaf=1, max_features=sqrt, max_depth=25 \n",
            "[CV]  n_estimators=700, min_samples_split=2, min_samples_leaf=1, max_features=sqrt, max_depth=25, total=   6.4s\n",
            "[CV] n_estimators=700, min_samples_split=2, min_samples_leaf=1, max_features=sqrt, max_depth=25 \n",
            "[CV]  n_estimators=700, min_samples_split=2, min_samples_leaf=1, max_features=sqrt, max_depth=25, total=   6.4s\n",
            "[CV] n_estimators=700, min_samples_split=2, min_samples_leaf=1, max_features=sqrt, max_depth=25 \n",
            "[CV]  n_estimators=700, min_samples_split=2, min_samples_leaf=1, max_features=sqrt, max_depth=25, total=   6.5s\n",
            "[CV] n_estimators=700, min_samples_split=2, min_samples_leaf=1, max_features=sqrt, max_depth=25 \n",
            "[CV]  n_estimators=700, min_samples_split=2, min_samples_leaf=1, max_features=sqrt, max_depth=25, total=   6.4s\n",
            "[CV] n_estimators=500, min_samples_split=2, min_samples_leaf=2, max_features=auto, max_depth=30 \n",
            "[CV]  n_estimators=500, min_samples_split=2, min_samples_leaf=2, max_features=auto, max_depth=30, total=  10.6s\n",
            "[CV] n_estimators=500, min_samples_split=2, min_samples_leaf=2, max_features=auto, max_depth=30 \n",
            "[CV]  n_estimators=500, min_samples_split=2, min_samples_leaf=2, max_features=auto, max_depth=30, total=  10.6s\n",
            "[CV] n_estimators=500, min_samples_split=2, min_samples_leaf=2, max_features=auto, max_depth=30 \n",
            "[CV]  n_estimators=500, min_samples_split=2, min_samples_leaf=2, max_features=auto, max_depth=30, total=  10.6s\n",
            "[CV] n_estimators=500, min_samples_split=2, min_samples_leaf=2, max_features=auto, max_depth=30 \n",
            "[CV]  n_estimators=500, min_samples_split=2, min_samples_leaf=2, max_features=auto, max_depth=30, total=  10.6s\n",
            "[CV] n_estimators=500, min_samples_split=2, min_samples_leaf=2, max_features=auto, max_depth=30 \n",
            "[CV]  n_estimators=500, min_samples_split=2, min_samples_leaf=2, max_features=auto, max_depth=30, total=  10.6s\n",
            "[CV] n_estimators=300, min_samples_split=15, min_samples_leaf=10, max_features=sqrt, max_depth=10 \n",
            "[CV]  n_estimators=300, min_samples_split=15, min_samples_leaf=10, max_features=sqrt, max_depth=10, total=   1.4s\n",
            "[CV] n_estimators=300, min_samples_split=15, min_samples_leaf=10, max_features=sqrt, max_depth=10 \n",
            "[CV]  n_estimators=300, min_samples_split=15, min_samples_leaf=10, max_features=sqrt, max_depth=10, total=   1.4s\n",
            "[CV] n_estimators=300, min_samples_split=15, min_samples_leaf=10, max_features=sqrt, max_depth=10 \n",
            "[CV]  n_estimators=300, min_samples_split=15, min_samples_leaf=10, max_features=sqrt, max_depth=10, total=   1.4s\n",
            "[CV] n_estimators=300, min_samples_split=15, min_samples_leaf=10, max_features=sqrt, max_depth=10 \n",
            "[CV]  n_estimators=300, min_samples_split=15, min_samples_leaf=10, max_features=sqrt, max_depth=10, total=   1.4s\n",
            "[CV] n_estimators=300, min_samples_split=15, min_samples_leaf=10, max_features=sqrt, max_depth=10 \n",
            "[CV]  n_estimators=300, min_samples_split=15, min_samples_leaf=10, max_features=sqrt, max_depth=10, total=   1.4s\n",
            "[CV] n_estimators=400, min_samples_split=5, min_samples_leaf=2, max_features=sqrt, max_depth=25 \n",
            "[CV]  n_estimators=400, min_samples_split=5, min_samples_leaf=2, max_features=sqrt, max_depth=25, total=   2.8s\n",
            "[CV] n_estimators=400, min_samples_split=5, min_samples_leaf=2, max_features=sqrt, max_depth=25 \n",
            "[CV]  n_estimators=400, min_samples_split=5, min_samples_leaf=2, max_features=sqrt, max_depth=25, total=   2.8s\n",
            "[CV] n_estimators=400, min_samples_split=5, min_samples_leaf=2, max_features=sqrt, max_depth=25 \n",
            "[CV]  n_estimators=400, min_samples_split=5, min_samples_leaf=2, max_features=sqrt, max_depth=25, total=   2.8s\n",
            "[CV] n_estimators=400, min_samples_split=5, min_samples_leaf=2, max_features=sqrt, max_depth=25 \n",
            "[CV]  n_estimators=400, min_samples_split=5, min_samples_leaf=2, max_features=sqrt, max_depth=25, total=   2.8s\n",
            "[CV] n_estimators=400, min_samples_split=5, min_samples_leaf=2, max_features=sqrt, max_depth=25 \n",
            "[CV]  n_estimators=400, min_samples_split=5, min_samples_leaf=2, max_features=sqrt, max_depth=25, total=   2.8s\n",
            "[CV] n_estimators=500, min_samples_split=2, min_samples_leaf=1, max_features=auto, max_depth=25 \n",
            "[CV]  n_estimators=500, min_samples_split=2, min_samples_leaf=1, max_features=auto, max_depth=25, total=  11.9s\n",
            "[CV] n_estimators=500, min_samples_split=2, min_samples_leaf=1, max_features=auto, max_depth=25 \n",
            "[CV]  n_estimators=500, min_samples_split=2, min_samples_leaf=1, max_features=auto, max_depth=25, total=  12.0s\n",
            "[CV] n_estimators=500, min_samples_split=2, min_samples_leaf=1, max_features=auto, max_depth=25 \n",
            "[CV]  n_estimators=500, min_samples_split=2, min_samples_leaf=1, max_features=auto, max_depth=25, total=  12.0s\n",
            "[CV] n_estimators=500, min_samples_split=2, min_samples_leaf=1, max_features=auto, max_depth=25 \n",
            "[CV]  n_estimators=500, min_samples_split=2, min_samples_leaf=1, max_features=auto, max_depth=25, total=  11.9s\n",
            "[CV] n_estimators=500, min_samples_split=2, min_samples_leaf=1, max_features=auto, max_depth=25 \n",
            "[CV]  n_estimators=500, min_samples_split=2, min_samples_leaf=1, max_features=auto, max_depth=25, total=  12.0s\n",
            "[CV] n_estimators=800, min_samples_split=15, min_samples_leaf=1, max_features=sqrt, max_depth=20 \n",
            "[CV]  n_estimators=800, min_samples_split=15, min_samples_leaf=1, max_features=sqrt, max_depth=20, total=   4.8s\n",
            "[CV] n_estimators=800, min_samples_split=15, min_samples_leaf=1, max_features=sqrt, max_depth=20 \n",
            "[CV]  n_estimators=800, min_samples_split=15, min_samples_leaf=1, max_features=sqrt, max_depth=20, total=   4.7s\n",
            "[CV] n_estimators=800, min_samples_split=15, min_samples_leaf=1, max_features=sqrt, max_depth=20 \n",
            "[CV]  n_estimators=800, min_samples_split=15, min_samples_leaf=1, max_features=sqrt, max_depth=20, total=   4.7s\n",
            "[CV] n_estimators=800, min_samples_split=15, min_samples_leaf=1, max_features=sqrt, max_depth=20 \n",
            "[CV]  n_estimators=800, min_samples_split=15, min_samples_leaf=1, max_features=sqrt, max_depth=20, total=   4.7s\n",
            "[CV] n_estimators=800, min_samples_split=15, min_samples_leaf=1, max_features=sqrt, max_depth=20 \n",
            "[CV]  n_estimators=800, min_samples_split=15, min_samples_leaf=1, max_features=sqrt, max_depth=20, total=   4.7s\n",
            "[CV] n_estimators=200, min_samples_split=10, min_samples_leaf=5, max_features=sqrt, max_depth=30 \n",
            "[CV]  n_estimators=200, min_samples_split=10, min_samples_leaf=5, max_features=sqrt, max_depth=30, total=   1.2s\n",
            "[CV] n_estimators=200, min_samples_split=10, min_samples_leaf=5, max_features=sqrt, max_depth=30 \n",
            "[CV]  n_estimators=200, min_samples_split=10, min_samples_leaf=5, max_features=sqrt, max_depth=30, total=   1.2s\n",
            "[CV] n_estimators=200, min_samples_split=10, min_samples_leaf=5, max_features=sqrt, max_depth=30 \n",
            "[CV]  n_estimators=200, min_samples_split=10, min_samples_leaf=5, max_features=sqrt, max_depth=30, total=   1.2s\n",
            "[CV] n_estimators=200, min_samples_split=10, min_samples_leaf=5, max_features=sqrt, max_depth=30 \n",
            "[CV]  n_estimators=200, min_samples_split=10, min_samples_leaf=5, max_features=sqrt, max_depth=30, total=   1.2s\n",
            "[CV] n_estimators=200, min_samples_split=10, min_samples_leaf=5, max_features=sqrt, max_depth=30 \n",
            "[CV]  n_estimators=200, min_samples_split=10, min_samples_leaf=5, max_features=sqrt, max_depth=30, total=   1.2s\n",
            "[CV] n_estimators=900, min_samples_split=10, min_samples_leaf=2, max_features=sqrt, max_depth=10 \n",
            "[CV]  n_estimators=900, min_samples_split=10, min_samples_leaf=2, max_features=sqrt, max_depth=10, total=   4.3s\n",
            "[CV] n_estimators=900, min_samples_split=10, min_samples_leaf=2, max_features=sqrt, max_depth=10 \n",
            "[CV]  n_estimators=900, min_samples_split=10, min_samples_leaf=2, max_features=sqrt, max_depth=10, total=   4.3s\n",
            "[CV] n_estimators=900, min_samples_split=10, min_samples_leaf=2, max_features=sqrt, max_depth=10 \n",
            "[CV]  n_estimators=900, min_samples_split=10, min_samples_leaf=2, max_features=sqrt, max_depth=10, total=   4.3s\n",
            "[CV] n_estimators=900, min_samples_split=10, min_samples_leaf=2, max_features=sqrt, max_depth=10 \n",
            "[CV]  n_estimators=900, min_samples_split=10, min_samples_leaf=2, max_features=sqrt, max_depth=10, total=   4.2s\n",
            "[CV] n_estimators=900, min_samples_split=10, min_samples_leaf=2, max_features=sqrt, max_depth=10 \n",
            "[CV]  n_estimators=900, min_samples_split=10, min_samples_leaf=2, max_features=sqrt, max_depth=10, total=   4.3s\n",
            "[CV] n_estimators=1100, min_samples_split=5, min_samples_leaf=5, max_features=sqrt, max_depth=20 \n",
            "[CV]  n_estimators=1100, min_samples_split=5, min_samples_leaf=5, max_features=sqrt, max_depth=20, total=   6.4s\n",
            "[CV] n_estimators=1100, min_samples_split=5, min_samples_leaf=5, max_features=sqrt, max_depth=20 \n",
            "[CV]  n_estimators=1100, min_samples_split=5, min_samples_leaf=5, max_features=sqrt, max_depth=20, total=   6.4s\n",
            "[CV] n_estimators=1100, min_samples_split=5, min_samples_leaf=5, max_features=sqrt, max_depth=20 \n",
            "[CV]  n_estimators=1100, min_samples_split=5, min_samples_leaf=5, max_features=sqrt, max_depth=20, total=   6.4s\n",
            "[CV] n_estimators=1100, min_samples_split=5, min_samples_leaf=5, max_features=sqrt, max_depth=20 \n",
            "[CV]  n_estimators=1100, min_samples_split=5, min_samples_leaf=5, max_features=sqrt, max_depth=20, total=   6.4s\n",
            "[CV] n_estimators=1100, min_samples_split=5, min_samples_leaf=5, max_features=sqrt, max_depth=20 \n",
            "[CV]  n_estimators=1100, min_samples_split=5, min_samples_leaf=5, max_features=sqrt, max_depth=20, total=   6.4s\n",
            "[CV] n_estimators=400, min_samples_split=5, min_samples_leaf=1, max_features=sqrt, max_depth=30 \n",
            "[CV]  n_estimators=400, min_samples_split=5, min_samples_leaf=1, max_features=sqrt, max_depth=30, total=   3.0s\n",
            "[CV] n_estimators=400, min_samples_split=5, min_samples_leaf=1, max_features=sqrt, max_depth=30 \n",
            "[CV]  n_estimators=400, min_samples_split=5, min_samples_leaf=1, max_features=sqrt, max_depth=30, total=   2.9s\n",
            "[CV] n_estimators=400, min_samples_split=5, min_samples_leaf=1, max_features=sqrt, max_depth=30 \n",
            "[CV]  n_estimators=400, min_samples_split=5, min_samples_leaf=1, max_features=sqrt, max_depth=30, total=   3.0s\n",
            "[CV] n_estimators=400, min_samples_split=5, min_samples_leaf=1, max_features=sqrt, max_depth=30 \n",
            "[CV]  n_estimators=400, min_samples_split=5, min_samples_leaf=1, max_features=sqrt, max_depth=30, total=   3.0s\n",
            "[CV] n_estimators=400, min_samples_split=5, min_samples_leaf=1, max_features=sqrt, max_depth=30 \n",
            "[CV]  n_estimators=400, min_samples_split=5, min_samples_leaf=1, max_features=sqrt, max_depth=30, total=   3.0s\n",
            "[CV] n_estimators=400, min_samples_split=15, min_samples_leaf=5, max_features=sqrt, max_depth=20 \n",
            "[CV]  n_estimators=400, min_samples_split=15, min_samples_leaf=5, max_features=sqrt, max_depth=20, total=   2.3s\n",
            "[CV] n_estimators=400, min_samples_split=15, min_samples_leaf=5, max_features=sqrt, max_depth=20 \n",
            "[CV]  n_estimators=400, min_samples_split=15, min_samples_leaf=5, max_features=sqrt, max_depth=20, total=   2.2s\n",
            "[CV] n_estimators=400, min_samples_split=15, min_samples_leaf=5, max_features=sqrt, max_depth=20 \n",
            "[CV]  n_estimators=400, min_samples_split=15, min_samples_leaf=5, max_features=sqrt, max_depth=20, total=   2.2s\n",
            "[CV] n_estimators=400, min_samples_split=15, min_samples_leaf=5, max_features=sqrt, max_depth=20 \n",
            "[CV]  n_estimators=400, min_samples_split=15, min_samples_leaf=5, max_features=sqrt, max_depth=20, total=   2.2s\n",
            "[CV] n_estimators=400, min_samples_split=15, min_samples_leaf=5, max_features=sqrt, max_depth=20 \n",
            "[CV]  n_estimators=400, min_samples_split=15, min_samples_leaf=5, max_features=sqrt, max_depth=20, total=   2.2s\n",
            "[CV] n_estimators=700, min_samples_split=10, min_samples_leaf=1, max_features=sqrt, max_depth=15 \n",
            "[CV]  n_estimators=700, min_samples_split=10, min_samples_leaf=1, max_features=sqrt, max_depth=15, total=   4.2s\n",
            "[CV] n_estimators=700, min_samples_split=10, min_samples_leaf=1, max_features=sqrt, max_depth=15 \n",
            "[CV]  n_estimators=700, min_samples_split=10, min_samples_leaf=1, max_features=sqrt, max_depth=15, total=   4.2s\n",
            "[CV] n_estimators=700, min_samples_split=10, min_samples_leaf=1, max_features=sqrt, max_depth=15 \n",
            "[CV]  n_estimators=700, min_samples_split=10, min_samples_leaf=1, max_features=sqrt, max_depth=15, total=   4.1s\n",
            "[CV] n_estimators=700, min_samples_split=10, min_samples_leaf=1, max_features=sqrt, max_depth=15 \n",
            "[CV]  n_estimators=700, min_samples_split=10, min_samples_leaf=1, max_features=sqrt, max_depth=15, total=   4.2s\n",
            "[CV] n_estimators=700, min_samples_split=10, min_samples_leaf=1, max_features=sqrt, max_depth=15 \n",
            "[CV]  n_estimators=700, min_samples_split=10, min_samples_leaf=1, max_features=sqrt, max_depth=15, total=   4.2s\n",
            "[CV] n_estimators=200, min_samples_split=15, min_samples_leaf=10, max_features=auto, max_depth=5 \n",
            "[CV]  n_estimators=200, min_samples_split=15, min_samples_leaf=10, max_features=auto, max_depth=5, total=   1.7s\n",
            "[CV] n_estimators=200, min_samples_split=15, min_samples_leaf=10, max_features=auto, max_depth=5 \n",
            "[CV]  n_estimators=200, min_samples_split=15, min_samples_leaf=10, max_features=auto, max_depth=5, total=   1.7s\n",
            "[CV] n_estimators=200, min_samples_split=15, min_samples_leaf=10, max_features=auto, max_depth=5 \n",
            "[CV]  n_estimators=200, min_samples_split=15, min_samples_leaf=10, max_features=auto, max_depth=5, total=   1.7s\n",
            "[CV] n_estimators=200, min_samples_split=15, min_samples_leaf=10, max_features=auto, max_depth=5 \n",
            "[CV]  n_estimators=200, min_samples_split=15, min_samples_leaf=10, max_features=auto, max_depth=5, total=   1.7s\n",
            "[CV] n_estimators=200, min_samples_split=15, min_samples_leaf=10, max_features=auto, max_depth=5 \n",
            "[CV]  n_estimators=200, min_samples_split=15, min_samples_leaf=10, max_features=auto, max_depth=5, total=   1.7s\n",
            "[CV] n_estimators=200, min_samples_split=15, min_samples_leaf=5, max_features=sqrt, max_depth=5 \n",
            "[CV]  n_estimators=200, min_samples_split=15, min_samples_leaf=5, max_features=sqrt, max_depth=5, total=   0.6s\n",
            "[CV] n_estimators=200, min_samples_split=15, min_samples_leaf=5, max_features=sqrt, max_depth=5 \n",
            "[CV]  n_estimators=200, min_samples_split=15, min_samples_leaf=5, max_features=sqrt, max_depth=5, total=   0.6s\n",
            "[CV] n_estimators=200, min_samples_split=15, min_samples_leaf=5, max_features=sqrt, max_depth=5 \n",
            "[CV]  n_estimators=200, min_samples_split=15, min_samples_leaf=5, max_features=sqrt, max_depth=5, total=   0.6s\n",
            "[CV] n_estimators=200, min_samples_split=15, min_samples_leaf=5, max_features=sqrt, max_depth=5 \n",
            "[CV]  n_estimators=200, min_samples_split=15, min_samples_leaf=5, max_features=sqrt, max_depth=5, total=   0.6s\n",
            "[CV] n_estimators=200, min_samples_split=15, min_samples_leaf=5, max_features=sqrt, max_depth=5 \n",
            "[CV]  n_estimators=200, min_samples_split=15, min_samples_leaf=5, max_features=sqrt, max_depth=5, total=   0.6s\n",
            "[CV] n_estimators=600, min_samples_split=15, min_samples_leaf=1, max_features=sqrt, max_depth=15 \n",
            "[CV]  n_estimators=600, min_samples_split=15, min_samples_leaf=1, max_features=sqrt, max_depth=15, total=   3.4s\n",
            "[CV] n_estimators=600, min_samples_split=15, min_samples_leaf=1, max_features=sqrt, max_depth=15 \n",
            "[CV]  n_estimators=600, min_samples_split=15, min_samples_leaf=1, max_features=sqrt, max_depth=15, total=   3.4s\n",
            "[CV] n_estimators=600, min_samples_split=15, min_samples_leaf=1, max_features=sqrt, max_depth=15 \n",
            "[CV]  n_estimators=600, min_samples_split=15, min_samples_leaf=1, max_features=sqrt, max_depth=15, total=   3.4s\n",
            "[CV] n_estimators=600, min_samples_split=15, min_samples_leaf=1, max_features=sqrt, max_depth=15 \n",
            "[CV]  n_estimators=600, min_samples_split=15, min_samples_leaf=1, max_features=sqrt, max_depth=15, total=   3.4s\n",
            "[CV] n_estimators=600, min_samples_split=15, min_samples_leaf=1, max_features=sqrt, max_depth=15 \n",
            "[CV]  n_estimators=600, min_samples_split=15, min_samples_leaf=1, max_features=sqrt, max_depth=15, total=   3.4s\n",
            "[CV] n_estimators=1000, min_samples_split=15, min_samples_leaf=10, max_features=auto, max_depth=30 \n",
            "[CV]  n_estimators=1000, min_samples_split=15, min_samples_leaf=10, max_features=auto, max_depth=30, total=  15.3s\n",
            "[CV] n_estimators=1000, min_samples_split=15, min_samples_leaf=10, max_features=auto, max_depth=30 \n",
            "[CV]  n_estimators=1000, min_samples_split=15, min_samples_leaf=10, max_features=auto, max_depth=30, total=  15.5s\n",
            "[CV] n_estimators=1000, min_samples_split=15, min_samples_leaf=10, max_features=auto, max_depth=30 \n",
            "[CV]  n_estimators=1000, min_samples_split=15, min_samples_leaf=10, max_features=auto, max_depth=30, total=  15.4s\n",
            "[CV] n_estimators=1000, min_samples_split=15, min_samples_leaf=10, max_features=auto, max_depth=30 \n",
            "[CV]  n_estimators=1000, min_samples_split=15, min_samples_leaf=10, max_features=auto, max_depth=30, total=  15.5s\n",
            "[CV] n_estimators=1000, min_samples_split=15, min_samples_leaf=10, max_features=auto, max_depth=30 \n",
            "[CV]  n_estimators=1000, min_samples_split=15, min_samples_leaf=10, max_features=auto, max_depth=30, total=  15.4s\n",
            "[CV] n_estimators=800, min_samples_split=5, min_samples_leaf=10, max_features=auto, max_depth=20 \n",
            "[CV]  n_estimators=800, min_samples_split=5, min_samples_leaf=10, max_features=auto, max_depth=20, total=  12.3s\n",
            "[CV] n_estimators=800, min_samples_split=5, min_samples_leaf=10, max_features=auto, max_depth=20 \n",
            "[CV]  n_estimators=800, min_samples_split=5, min_samples_leaf=10, max_features=auto, max_depth=20, total=  12.4s\n",
            "[CV] n_estimators=800, min_samples_split=5, min_samples_leaf=10, max_features=auto, max_depth=20 \n",
            "[CV]  n_estimators=800, min_samples_split=5, min_samples_leaf=10, max_features=auto, max_depth=20, total=  12.5s\n",
            "[CV] n_estimators=800, min_samples_split=5, min_samples_leaf=10, max_features=auto, max_depth=20 \n",
            "[CV]  n_estimators=800, min_samples_split=5, min_samples_leaf=10, max_features=auto, max_depth=20, total=  12.4s\n",
            "[CV] n_estimators=800, min_samples_split=5, min_samples_leaf=10, max_features=auto, max_depth=20 \n",
            "[CV]  n_estimators=800, min_samples_split=5, min_samples_leaf=10, max_features=auto, max_depth=20, total=  12.4s\n",
            "[CV] n_estimators=100, min_samples_split=10, min_samples_leaf=10, max_features=auto, max_depth=5 \n",
            "[CV]  n_estimators=100, min_samples_split=10, min_samples_leaf=10, max_features=auto, max_depth=5, total=   0.8s\n",
            "[CV] n_estimators=100, min_samples_split=10, min_samples_leaf=10, max_features=auto, max_depth=5 \n",
            "[CV]  n_estimators=100, min_samples_split=10, min_samples_leaf=10, max_features=auto, max_depth=5, total=   0.8s\n",
            "[CV] n_estimators=100, min_samples_split=10, min_samples_leaf=10, max_features=auto, max_depth=5 \n",
            "[CV]  n_estimators=100, min_samples_split=10, min_samples_leaf=10, max_features=auto, max_depth=5, total=   0.8s\n",
            "[CV] n_estimators=100, min_samples_split=10, min_samples_leaf=10, max_features=auto, max_depth=5 \n",
            "[CV]  n_estimators=100, min_samples_split=10, min_samples_leaf=10, max_features=auto, max_depth=5, total=   0.9s\n",
            "[CV] n_estimators=100, min_samples_split=10, min_samples_leaf=10, max_features=auto, max_depth=5 \n",
            "[CV]  n_estimators=100, min_samples_split=10, min_samples_leaf=10, max_features=auto, max_depth=5, total=   0.8s\n",
            "[CV] n_estimators=100, min_samples_split=5, min_samples_leaf=10, max_features=sqrt, max_depth=25 \n",
            "[CV]  n_estimators=100, min_samples_split=5, min_samples_leaf=10, max_features=sqrt, max_depth=25, total=   0.5s\n",
            "[CV] n_estimators=100, min_samples_split=5, min_samples_leaf=10, max_features=sqrt, max_depth=25 \n",
            "[CV]  n_estimators=100, min_samples_split=5, min_samples_leaf=10, max_features=sqrt, max_depth=25, total=   0.5s\n",
            "[CV] n_estimators=100, min_samples_split=5, min_samples_leaf=10, max_features=sqrt, max_depth=25 \n",
            "[CV]  n_estimators=100, min_samples_split=5, min_samples_leaf=10, max_features=sqrt, max_depth=25, total=   0.5s\n",
            "[CV] n_estimators=100, min_samples_split=5, min_samples_leaf=10, max_features=sqrt, max_depth=25 \n",
            "[CV]  n_estimators=100, min_samples_split=5, min_samples_leaf=10, max_features=sqrt, max_depth=25, total=   0.5s\n",
            "[CV] n_estimators=100, min_samples_split=5, min_samples_leaf=10, max_features=sqrt, max_depth=25 \n",
            "[CV]  n_estimators=100, min_samples_split=5, min_samples_leaf=10, max_features=sqrt, max_depth=25, total=   0.5s\n",
            "[CV] n_estimators=800, min_samples_split=15, min_samples_leaf=5, max_features=sqrt, max_depth=10 \n",
            "[CV]  n_estimators=800, min_samples_split=15, min_samples_leaf=5, max_features=sqrt, max_depth=10, total=   3.7s\n",
            "[CV] n_estimators=800, min_samples_split=15, min_samples_leaf=5, max_features=sqrt, max_depth=10 \n",
            "[CV]  n_estimators=800, min_samples_split=15, min_samples_leaf=5, max_features=sqrt, max_depth=10, total=   3.7s\n",
            "[CV] n_estimators=800, min_samples_split=15, min_samples_leaf=5, max_features=sqrt, max_depth=10 \n",
            "[CV]  n_estimators=800, min_samples_split=15, min_samples_leaf=5, max_features=sqrt, max_depth=10, total=   3.7s\n",
            "[CV] n_estimators=800, min_samples_split=15, min_samples_leaf=5, max_features=sqrt, max_depth=10 \n",
            "[CV]  n_estimators=800, min_samples_split=15, min_samples_leaf=5, max_features=sqrt, max_depth=10, total=   3.7s\n",
            "[CV] n_estimators=800, min_samples_split=15, min_samples_leaf=5, max_features=sqrt, max_depth=10 \n",
            "[CV]  n_estimators=800, min_samples_split=15, min_samples_leaf=5, max_features=sqrt, max_depth=10, total=   3.7s\n",
            "[CV] n_estimators=1000, min_samples_split=10, min_samples_leaf=1, max_features=sqrt, max_depth=10 \n",
            "[CV]  n_estimators=1000, min_samples_split=10, min_samples_leaf=1, max_features=sqrt, max_depth=10, total=   4.8s\n",
            "[CV] n_estimators=1000, min_samples_split=10, min_samples_leaf=1, max_features=sqrt, max_depth=10 \n",
            "[CV]  n_estimators=1000, min_samples_split=10, min_samples_leaf=1, max_features=sqrt, max_depth=10, total=   4.8s\n",
            "[CV] n_estimators=1000, min_samples_split=10, min_samples_leaf=1, max_features=sqrt, max_depth=10 \n",
            "[CV]  n_estimators=1000, min_samples_split=10, min_samples_leaf=1, max_features=sqrt, max_depth=10, total=   4.8s\n",
            "[CV] n_estimators=1000, min_samples_split=10, min_samples_leaf=1, max_features=sqrt, max_depth=10 \n",
            "[CV]  n_estimators=1000, min_samples_split=10, min_samples_leaf=1, max_features=sqrt, max_depth=10, total=   4.8s\n",
            "[CV] n_estimators=1000, min_samples_split=10, min_samples_leaf=1, max_features=sqrt, max_depth=10 \n",
            "[CV]  n_estimators=1000, min_samples_split=10, min_samples_leaf=1, max_features=sqrt, max_depth=10, total=   4.8s\n",
            "[CV] n_estimators=400, min_samples_split=5, min_samples_leaf=10, max_features=sqrt, max_depth=10 \n",
            "[CV]  n_estimators=400, min_samples_split=5, min_samples_leaf=10, max_features=sqrt, max_depth=10, total=   1.8s\n",
            "[CV] n_estimators=400, min_samples_split=5, min_samples_leaf=10, max_features=sqrt, max_depth=10 \n",
            "[CV]  n_estimators=400, min_samples_split=5, min_samples_leaf=10, max_features=sqrt, max_depth=10, total=   1.8s\n",
            "[CV] n_estimators=400, min_samples_split=5, min_samples_leaf=10, max_features=sqrt, max_depth=10 \n",
            "[CV]  n_estimators=400, min_samples_split=5, min_samples_leaf=10, max_features=sqrt, max_depth=10, total=   1.8s\n",
            "[CV] n_estimators=400, min_samples_split=5, min_samples_leaf=10, max_features=sqrt, max_depth=10 \n",
            "[CV]  n_estimators=400, min_samples_split=5, min_samples_leaf=10, max_features=sqrt, max_depth=10, total=   1.8s\n",
            "[CV] n_estimators=400, min_samples_split=5, min_samples_leaf=10, max_features=sqrt, max_depth=10 \n",
            "[CV]  n_estimators=400, min_samples_split=5, min_samples_leaf=10, max_features=sqrt, max_depth=10, total=   1.8s\n",
            "[CV] n_estimators=900, min_samples_split=10, min_samples_leaf=2, max_features=auto, max_depth=5 \n",
            "[CV]  n_estimators=900, min_samples_split=10, min_samples_leaf=2, max_features=auto, max_depth=5, total=   7.5s\n",
            "[CV] n_estimators=900, min_samples_split=10, min_samples_leaf=2, max_features=auto, max_depth=5 \n",
            "[CV]  n_estimators=900, min_samples_split=10, min_samples_leaf=2, max_features=auto, max_depth=5, total=   7.5s\n",
            "[CV] n_estimators=900, min_samples_split=10, min_samples_leaf=2, max_features=auto, max_depth=5 \n",
            "[CV]  n_estimators=900, min_samples_split=10, min_samples_leaf=2, max_features=auto, max_depth=5, total=   7.5s\n",
            "[CV] n_estimators=900, min_samples_split=10, min_samples_leaf=2, max_features=auto, max_depth=5 \n",
            "[CV]  n_estimators=900, min_samples_split=10, min_samples_leaf=2, max_features=auto, max_depth=5, total=   7.6s\n",
            "[CV] n_estimators=900, min_samples_split=10, min_samples_leaf=2, max_features=auto, max_depth=5 \n",
            "[CV]  n_estimators=900, min_samples_split=10, min_samples_leaf=2, max_features=auto, max_depth=5, total=   7.5s\n",
            "[CV] n_estimators=300, min_samples_split=5, min_samples_leaf=1, max_features=auto, max_depth=25 \n",
            "[CV]  n_estimators=300, min_samples_split=5, min_samples_leaf=1, max_features=auto, max_depth=25, total=   6.5s\n",
            "[CV] n_estimators=300, min_samples_split=5, min_samples_leaf=1, max_features=auto, max_depth=25 \n",
            "[CV]  n_estimators=300, min_samples_split=5, min_samples_leaf=1, max_features=auto, max_depth=25, total=   6.5s\n",
            "[CV] n_estimators=300, min_samples_split=5, min_samples_leaf=1, max_features=auto, max_depth=25 \n",
            "[CV]  n_estimators=300, min_samples_split=5, min_samples_leaf=1, max_features=auto, max_depth=25, total=   6.4s\n",
            "[CV] n_estimators=300, min_samples_split=5, min_samples_leaf=1, max_features=auto, max_depth=25 \n",
            "[CV]  n_estimators=300, min_samples_split=5, min_samples_leaf=1, max_features=auto, max_depth=25, total=   6.4s\n",
            "[CV] n_estimators=300, min_samples_split=5, min_samples_leaf=1, max_features=auto, max_depth=25 \n",
            "[CV]  n_estimators=300, min_samples_split=5, min_samples_leaf=1, max_features=auto, max_depth=25, total=   6.5s\n",
            "[CV] n_estimators=1000, min_samples_split=10, min_samples_leaf=5, max_features=auto, max_depth=25 \n",
            "[CV]  n_estimators=1000, min_samples_split=10, min_samples_leaf=5, max_features=auto, max_depth=25, total=  17.6s\n",
            "[CV] n_estimators=1000, min_samples_split=10, min_samples_leaf=5, max_features=auto, max_depth=25 \n",
            "[CV]  n_estimators=1000, min_samples_split=10, min_samples_leaf=5, max_features=auto, max_depth=25, total=  17.6s\n",
            "[CV] n_estimators=1000, min_samples_split=10, min_samples_leaf=5, max_features=auto, max_depth=25 \n",
            "[CV]  n_estimators=1000, min_samples_split=10, min_samples_leaf=5, max_features=auto, max_depth=25, total=  17.6s\n",
            "[CV] n_estimators=1000, min_samples_split=10, min_samples_leaf=5, max_features=auto, max_depth=25 \n",
            "[CV]  n_estimators=1000, min_samples_split=10, min_samples_leaf=5, max_features=auto, max_depth=25, total=  17.6s\n",
            "[CV] n_estimators=1000, min_samples_split=10, min_samples_leaf=5, max_features=auto, max_depth=25 \n",
            "[CV]  n_estimators=1000, min_samples_split=10, min_samples_leaf=5, max_features=auto, max_depth=25, total=  17.6s\n",
            "[CV] n_estimators=1000, min_samples_split=15, min_samples_leaf=2, max_features=sqrt, max_depth=10 \n",
            "[CV]  n_estimators=1000, min_samples_split=15, min_samples_leaf=2, max_features=sqrt, max_depth=10, total=   4.7s\n",
            "[CV] n_estimators=1000, min_samples_split=15, min_samples_leaf=2, max_features=sqrt, max_depth=10 \n",
            "[CV]  n_estimators=1000, min_samples_split=15, min_samples_leaf=2, max_features=sqrt, max_depth=10, total=   4.7s\n",
            "[CV] n_estimators=1000, min_samples_split=15, min_samples_leaf=2, max_features=sqrt, max_depth=10 \n",
            "[CV]  n_estimators=1000, min_samples_split=15, min_samples_leaf=2, max_features=sqrt, max_depth=10, total=   4.7s\n",
            "[CV] n_estimators=1000, min_samples_split=15, min_samples_leaf=2, max_features=sqrt, max_depth=10 \n",
            "[CV]  n_estimators=1000, min_samples_split=15, min_samples_leaf=2, max_features=sqrt, max_depth=10, total=   4.7s\n",
            "[CV] n_estimators=1000, min_samples_split=15, min_samples_leaf=2, max_features=sqrt, max_depth=10 \n",
            "[CV]  n_estimators=1000, min_samples_split=15, min_samples_leaf=2, max_features=sqrt, max_depth=10, total=   4.7s\n",
            "[CV] n_estimators=500, min_samples_split=2, min_samples_leaf=1, max_features=sqrt, max_depth=15 \n",
            "[CV]  n_estimators=500, min_samples_split=2, min_samples_leaf=1, max_features=sqrt, max_depth=15, total=   3.7s\n",
            "[CV] n_estimators=500, min_samples_split=2, min_samples_leaf=1, max_features=sqrt, max_depth=15 \n",
            "[CV]  n_estimators=500, min_samples_split=2, min_samples_leaf=1, max_features=sqrt, max_depth=15, total=   3.7s\n",
            "[CV] n_estimators=500, min_samples_split=2, min_samples_leaf=1, max_features=sqrt, max_depth=15 \n",
            "[CV]  n_estimators=500, min_samples_split=2, min_samples_leaf=1, max_features=sqrt, max_depth=15, total=   3.7s\n",
            "[CV] n_estimators=500, min_samples_split=2, min_samples_leaf=1, max_features=sqrt, max_depth=15 \n",
            "[CV]  n_estimators=500, min_samples_split=2, min_samples_leaf=1, max_features=sqrt, max_depth=15, total=   3.7s\n",
            "[CV] n_estimators=500, min_samples_split=2, min_samples_leaf=1, max_features=sqrt, max_depth=15 \n",
            "[CV]  n_estimators=500, min_samples_split=2, min_samples_leaf=1, max_features=sqrt, max_depth=15, total=   3.7s\n",
            "[CV] n_estimators=700, min_samples_split=10, min_samples_leaf=10, max_features=auto, max_depth=25 \n",
            "[CV]  n_estimators=700, min_samples_split=10, min_samples_leaf=10, max_features=auto, max_depth=25, total=  10.8s\n",
            "[CV] n_estimators=700, min_samples_split=10, min_samples_leaf=10, max_features=auto, max_depth=25 \n",
            "[CV]  n_estimators=700, min_samples_split=10, min_samples_leaf=10, max_features=auto, max_depth=25, total=  10.8s\n",
            "[CV] n_estimators=700, min_samples_split=10, min_samples_leaf=10, max_features=auto, max_depth=25 \n",
            "[CV]  n_estimators=700, min_samples_split=10, min_samples_leaf=10, max_features=auto, max_depth=25, total=  10.8s\n",
            "[CV] n_estimators=700, min_samples_split=10, min_samples_leaf=10, max_features=auto, max_depth=25 \n",
            "[CV]  n_estimators=700, min_samples_split=10, min_samples_leaf=10, max_features=auto, max_depth=25, total=  10.8s\n",
            "[CV] n_estimators=700, min_samples_split=10, min_samples_leaf=10, max_features=auto, max_depth=25 \n",
            "[CV]  n_estimators=700, min_samples_split=10, min_samples_leaf=10, max_features=auto, max_depth=25, total=  10.9s\n",
            "[CV] n_estimators=400, min_samples_split=15, min_samples_leaf=1, max_features=sqrt, max_depth=30 \n",
            "[CV]  n_estimators=400, min_samples_split=15, min_samples_leaf=1, max_features=sqrt, max_depth=30, total=   2.4s\n",
            "[CV] n_estimators=400, min_samples_split=15, min_samples_leaf=1, max_features=sqrt, max_depth=30 \n",
            "[CV]  n_estimators=400, min_samples_split=15, min_samples_leaf=1, max_features=sqrt, max_depth=30, total=   2.4s\n",
            "[CV] n_estimators=400, min_samples_split=15, min_samples_leaf=1, max_features=sqrt, max_depth=30 \n",
            "[CV]  n_estimators=400, min_samples_split=15, min_samples_leaf=1, max_features=sqrt, max_depth=30, total=   2.4s\n",
            "[CV] n_estimators=400, min_samples_split=15, min_samples_leaf=1, max_features=sqrt, max_depth=30 \n",
            "[CV]  n_estimators=400, min_samples_split=15, min_samples_leaf=1, max_features=sqrt, max_depth=30, total=   2.4s\n",
            "[CV] n_estimators=400, min_samples_split=15, min_samples_leaf=1, max_features=sqrt, max_depth=30 \n",
            "[CV]  n_estimators=400, min_samples_split=15, min_samples_leaf=1, max_features=sqrt, max_depth=30, total=   2.4s\n",
            "[CV] n_estimators=700, min_samples_split=15, min_samples_leaf=1, max_features=sqrt, max_depth=10 \n",
            "[CV]  n_estimators=700, min_samples_split=15, min_samples_leaf=1, max_features=sqrt, max_depth=10, total=   3.3s\n",
            "[CV] n_estimators=700, min_samples_split=15, min_samples_leaf=1, max_features=sqrt, max_depth=10 \n",
            "[CV]  n_estimators=700, min_samples_split=15, min_samples_leaf=1, max_features=sqrt, max_depth=10, total=   3.3s\n",
            "[CV] n_estimators=700, min_samples_split=15, min_samples_leaf=1, max_features=sqrt, max_depth=10 \n",
            "[CV]  n_estimators=700, min_samples_split=15, min_samples_leaf=1, max_features=sqrt, max_depth=10, total=   3.3s\n",
            "[CV] n_estimators=700, min_samples_split=15, min_samples_leaf=1, max_features=sqrt, max_depth=10 \n",
            "[CV]  n_estimators=700, min_samples_split=15, min_samples_leaf=1, max_features=sqrt, max_depth=10, total=   3.3s\n",
            "[CV] n_estimators=700, min_samples_split=15, min_samples_leaf=1, max_features=sqrt, max_depth=10 \n",
            "[CV]  n_estimators=700, min_samples_split=15, min_samples_leaf=1, max_features=sqrt, max_depth=10, total=   3.3s\n",
            "[CV] n_estimators=1100, min_samples_split=2, min_samples_leaf=1, max_features=sqrt, max_depth=15 \n",
            "[CV]  n_estimators=1100, min_samples_split=2, min_samples_leaf=1, max_features=sqrt, max_depth=15, total=   8.0s\n",
            "[CV] n_estimators=1100, min_samples_split=2, min_samples_leaf=1, max_features=sqrt, max_depth=15 \n",
            "[CV]  n_estimators=1100, min_samples_split=2, min_samples_leaf=1, max_features=sqrt, max_depth=15, total=   8.1s\n",
            "[CV] n_estimators=1100, min_samples_split=2, min_samples_leaf=1, max_features=sqrt, max_depth=15 \n",
            "[CV]  n_estimators=1100, min_samples_split=2, min_samples_leaf=1, max_features=sqrt, max_depth=15, total=   8.1s\n",
            "[CV] n_estimators=1100, min_samples_split=2, min_samples_leaf=1, max_features=sqrt, max_depth=15 \n",
            "[CV]  n_estimators=1100, min_samples_split=2, min_samples_leaf=1, max_features=sqrt, max_depth=15, total=   8.1s\n",
            "[CV] n_estimators=1100, min_samples_split=2, min_samples_leaf=1, max_features=sqrt, max_depth=15 \n",
            "[CV]  n_estimators=1100, min_samples_split=2, min_samples_leaf=1, max_features=sqrt, max_depth=15, total=   8.2s\n",
            "[CV] n_estimators=1200, min_samples_split=2, min_samples_leaf=1, max_features=sqrt, max_depth=15 \n",
            "[CV]  n_estimators=1200, min_samples_split=2, min_samples_leaf=1, max_features=sqrt, max_depth=15, total=   8.8s\n",
            "[CV] n_estimators=1200, min_samples_split=2, min_samples_leaf=1, max_features=sqrt, max_depth=15 \n",
            "[CV]  n_estimators=1200, min_samples_split=2, min_samples_leaf=1, max_features=sqrt, max_depth=15, total=   8.9s\n",
            "[CV] n_estimators=1200, min_samples_split=2, min_samples_leaf=1, max_features=sqrt, max_depth=15 \n",
            "[CV]  n_estimators=1200, min_samples_split=2, min_samples_leaf=1, max_features=sqrt, max_depth=15, total=   9.0s\n",
            "[CV] n_estimators=1200, min_samples_split=2, min_samples_leaf=1, max_features=sqrt, max_depth=15 \n",
            "[CV]  n_estimators=1200, min_samples_split=2, min_samples_leaf=1, max_features=sqrt, max_depth=15, total=   8.8s\n",
            "[CV] n_estimators=1200, min_samples_split=2, min_samples_leaf=1, max_features=sqrt, max_depth=15 \n",
            "[CV]  n_estimators=1200, min_samples_split=2, min_samples_leaf=1, max_features=sqrt, max_depth=15, total=   8.8s\n",
            "[CV] n_estimators=1200, min_samples_split=2, min_samples_leaf=1, max_features=auto, max_depth=10 \n",
            "[CV]  n_estimators=1200, min_samples_split=2, min_samples_leaf=1, max_features=auto, max_depth=10, total=  18.0s\n",
            "[CV] n_estimators=1200, min_samples_split=2, min_samples_leaf=1, max_features=auto, max_depth=10 \n",
            "[CV]  n_estimators=1200, min_samples_split=2, min_samples_leaf=1, max_features=auto, max_depth=10, total=  18.0s\n",
            "[CV] n_estimators=1200, min_samples_split=2, min_samples_leaf=1, max_features=auto, max_depth=10 \n",
            "[CV]  n_estimators=1200, min_samples_split=2, min_samples_leaf=1, max_features=auto, max_depth=10, total=  18.0s\n",
            "[CV] n_estimators=1200, min_samples_split=2, min_samples_leaf=1, max_features=auto, max_depth=10 \n",
            "[CV]  n_estimators=1200, min_samples_split=2, min_samples_leaf=1, max_features=auto, max_depth=10, total=  18.0s\n",
            "[CV] n_estimators=1200, min_samples_split=2, min_samples_leaf=1, max_features=auto, max_depth=10 \n",
            "[CV]  n_estimators=1200, min_samples_split=2, min_samples_leaf=1, max_features=auto, max_depth=10, total=  18.0s\n",
            "[CV] n_estimators=1200, min_samples_split=2, min_samples_leaf=1, max_features=sqrt, max_depth=20 \n",
            "[CV]  n_estimators=1200, min_samples_split=2, min_samples_leaf=1, max_features=sqrt, max_depth=20, total=  10.7s\n",
            "[CV] n_estimators=1200, min_samples_split=2, min_samples_leaf=1, max_features=sqrt, max_depth=20 \n",
            "[CV]  n_estimators=1200, min_samples_split=2, min_samples_leaf=1, max_features=sqrt, max_depth=20, total=  10.6s\n",
            "[CV] n_estimators=1200, min_samples_split=2, min_samples_leaf=1, max_features=sqrt, max_depth=20 \n",
            "[CV]  n_estimators=1200, min_samples_split=2, min_samples_leaf=1, max_features=sqrt, max_depth=20, total=  10.6s\n",
            "[CV] n_estimators=1200, min_samples_split=2, min_samples_leaf=1, max_features=sqrt, max_depth=20 \n",
            "[CV]  n_estimators=1200, min_samples_split=2, min_samples_leaf=1, max_features=sqrt, max_depth=20, total=  10.6s\n",
            "[CV] n_estimators=1200, min_samples_split=2, min_samples_leaf=1, max_features=sqrt, max_depth=20 \n",
            "[CV]  n_estimators=1200, min_samples_split=2, min_samples_leaf=1, max_features=sqrt, max_depth=20, total=  10.6s\n",
            "[CV] n_estimators=300, min_samples_split=10, min_samples_leaf=2, max_features=sqrt, max_depth=5 \n",
            "[CV]  n_estimators=300, min_samples_split=10, min_samples_leaf=2, max_features=sqrt, max_depth=5, total=   0.9s\n",
            "[CV] n_estimators=300, min_samples_split=10, min_samples_leaf=2, max_features=sqrt, max_depth=5 \n",
            "[CV]  n_estimators=300, min_samples_split=10, min_samples_leaf=2, max_features=sqrt, max_depth=5, total=   1.0s\n",
            "[CV] n_estimators=300, min_samples_split=10, min_samples_leaf=2, max_features=sqrt, max_depth=5 \n",
            "[CV]  n_estimators=300, min_samples_split=10, min_samples_leaf=2, max_features=sqrt, max_depth=5, total=   0.9s\n",
            "[CV] n_estimators=300, min_samples_split=10, min_samples_leaf=2, max_features=sqrt, max_depth=5 \n",
            "[CV]  n_estimators=300, min_samples_split=10, min_samples_leaf=2, max_features=sqrt, max_depth=5, total=   1.0s\n",
            "[CV] n_estimators=300, min_samples_split=10, min_samples_leaf=2, max_features=sqrt, max_depth=5 \n",
            "[CV]  n_estimators=300, min_samples_split=10, min_samples_leaf=2, max_features=sqrt, max_depth=5, total=   1.0s\n",
            "[CV] n_estimators=1200, min_samples_split=2, min_samples_leaf=5, max_features=sqrt, max_depth=20 \n",
            "[CV]  n_estimators=1200, min_samples_split=2, min_samples_leaf=5, max_features=sqrt, max_depth=20, total=   7.0s\n",
            "[CV] n_estimators=1200, min_samples_split=2, min_samples_leaf=5, max_features=sqrt, max_depth=20 \n",
            "[CV]  n_estimators=1200, min_samples_split=2, min_samples_leaf=5, max_features=sqrt, max_depth=20, total=   7.0s\n",
            "[CV] n_estimators=1200, min_samples_split=2, min_samples_leaf=5, max_features=sqrt, max_depth=20 \n",
            "[CV]  n_estimators=1200, min_samples_split=2, min_samples_leaf=5, max_features=sqrt, max_depth=20, total=   7.2s\n",
            "[CV] n_estimators=1200, min_samples_split=2, min_samples_leaf=5, max_features=sqrt, max_depth=20 \n",
            "[CV]  n_estimators=1200, min_samples_split=2, min_samples_leaf=5, max_features=sqrt, max_depth=20, total=   7.0s\n",
            "[CV] n_estimators=1200, min_samples_split=2, min_samples_leaf=5, max_features=sqrt, max_depth=20 \n",
            "[CV]  n_estimators=1200, min_samples_split=2, min_samples_leaf=5, max_features=sqrt, max_depth=20, total=   7.1s\n",
            "[CV] n_estimators=300, min_samples_split=2, min_samples_leaf=1, max_features=auto, max_depth=5 \n",
            "[CV]  n_estimators=300, min_samples_split=2, min_samples_leaf=1, max_features=auto, max_depth=5, total=   2.5s\n",
            "[CV] n_estimators=300, min_samples_split=2, min_samples_leaf=1, max_features=auto, max_depth=5 \n",
            "[CV]  n_estimators=300, min_samples_split=2, min_samples_leaf=1, max_features=auto, max_depth=5, total=   2.5s\n",
            "[CV] n_estimators=300, min_samples_split=2, min_samples_leaf=1, max_features=auto, max_depth=5 \n",
            "[CV]  n_estimators=300, min_samples_split=2, min_samples_leaf=1, max_features=auto, max_depth=5, total=   2.5s\n",
            "[CV] n_estimators=300, min_samples_split=2, min_samples_leaf=1, max_features=auto, max_depth=5 \n",
            "[CV]  n_estimators=300, min_samples_split=2, min_samples_leaf=1, max_features=auto, max_depth=5, total=   2.5s\n",
            "[CV] n_estimators=300, min_samples_split=2, min_samples_leaf=1, max_features=auto, max_depth=5 \n",
            "[CV]  n_estimators=300, min_samples_split=2, min_samples_leaf=1, max_features=auto, max_depth=5, total=   2.6s\n",
            "[CV] n_estimators=1100, min_samples_split=15, min_samples_leaf=1, max_features=sqrt, max_depth=25 \n",
            "[CV]  n_estimators=1100, min_samples_split=15, min_samples_leaf=1, max_features=sqrt, max_depth=25, total=   6.7s\n",
            "[CV] n_estimators=1100, min_samples_split=15, min_samples_leaf=1, max_features=sqrt, max_depth=25 \n",
            "[CV]  n_estimators=1100, min_samples_split=15, min_samples_leaf=1, max_features=sqrt, max_depth=25, total=   6.7s\n",
            "[CV] n_estimators=1100, min_samples_split=15, min_samples_leaf=1, max_features=sqrt, max_depth=25 \n",
            "[CV]  n_estimators=1100, min_samples_split=15, min_samples_leaf=1, max_features=sqrt, max_depth=25, total=   6.7s\n",
            "[CV] n_estimators=1100, min_samples_split=15, min_samples_leaf=1, max_features=sqrt, max_depth=25 \n",
            "[CV]  n_estimators=1100, min_samples_split=15, min_samples_leaf=1, max_features=sqrt, max_depth=25, total=   6.6s\n",
            "[CV] n_estimators=1100, min_samples_split=15, min_samples_leaf=1, max_features=sqrt, max_depth=25 \n",
            "[CV]  n_estimators=1100, min_samples_split=15, min_samples_leaf=1, max_features=sqrt, max_depth=25, total=   6.6s\n",
            "[CV] n_estimators=800, min_samples_split=5, min_samples_leaf=2, max_features=sqrt, max_depth=25 \n",
            "[CV]  n_estimators=800, min_samples_split=5, min_samples_leaf=2, max_features=sqrt, max_depth=25, total=   5.7s\n",
            "[CV] n_estimators=800, min_samples_split=5, min_samples_leaf=2, max_features=sqrt, max_depth=25 \n",
            "[CV]  n_estimators=800, min_samples_split=5, min_samples_leaf=2, max_features=sqrt, max_depth=25, total=   5.7s\n",
            "[CV] n_estimators=800, min_samples_split=5, min_samples_leaf=2, max_features=sqrt, max_depth=25 \n",
            "[CV]  n_estimators=800, min_samples_split=5, min_samples_leaf=2, max_features=sqrt, max_depth=25, total=   5.7s\n",
            "[CV] n_estimators=800, min_samples_split=5, min_samples_leaf=2, max_features=sqrt, max_depth=25 \n",
            "[CV]  n_estimators=800, min_samples_split=5, min_samples_leaf=2, max_features=sqrt, max_depth=25, total=   5.7s\n",
            "[CV] n_estimators=800, min_samples_split=5, min_samples_leaf=2, max_features=sqrt, max_depth=25 \n",
            "[CV]  n_estimators=800, min_samples_split=5, min_samples_leaf=2, max_features=sqrt, max_depth=25, total=   5.8s\n",
            "[CV] n_estimators=700, min_samples_split=15, min_samples_leaf=5, max_features=auto, max_depth=15 \n",
            "[CV]  n_estimators=700, min_samples_split=15, min_samples_leaf=5, max_features=auto, max_depth=15, total=  11.6s\n",
            "[CV] n_estimators=700, min_samples_split=15, min_samples_leaf=5, max_features=auto, max_depth=15 \n",
            "[CV]  n_estimators=700, min_samples_split=15, min_samples_leaf=5, max_features=auto, max_depth=15, total=  11.7s\n",
            "[CV] n_estimators=700, min_samples_split=15, min_samples_leaf=5, max_features=auto, max_depth=15 \n",
            "[CV]  n_estimators=700, min_samples_split=15, min_samples_leaf=5, max_features=auto, max_depth=15, total=  11.8s\n",
            "[CV] n_estimators=700, min_samples_split=15, min_samples_leaf=5, max_features=auto, max_depth=15 \n",
            "[CV]  n_estimators=700, min_samples_split=15, min_samples_leaf=5, max_features=auto, max_depth=15, total=  11.7s\n",
            "[CV] n_estimators=700, min_samples_split=15, min_samples_leaf=5, max_features=auto, max_depth=15 \n",
            "[CV]  n_estimators=700, min_samples_split=15, min_samples_leaf=5, max_features=auto, max_depth=15, total=  11.6s\n",
            "[CV] n_estimators=1000, min_samples_split=2, min_samples_leaf=2, max_features=auto, max_depth=30 \n",
            "[CV]  n_estimators=1000, min_samples_split=2, min_samples_leaf=2, max_features=auto, max_depth=30, total=  21.3s\n",
            "[CV] n_estimators=1000, min_samples_split=2, min_samples_leaf=2, max_features=auto, max_depth=30 \n",
            "[CV]  n_estimators=1000, min_samples_split=2, min_samples_leaf=2, max_features=auto, max_depth=30, total=  21.4s\n",
            "[CV] n_estimators=1000, min_samples_split=2, min_samples_leaf=2, max_features=auto, max_depth=30 \n",
            "[CV]  n_estimators=1000, min_samples_split=2, min_samples_leaf=2, max_features=auto, max_depth=30, total=  21.5s\n",
            "[CV] n_estimators=1000, min_samples_split=2, min_samples_leaf=2, max_features=auto, max_depth=30 \n",
            "[CV]  n_estimators=1000, min_samples_split=2, min_samples_leaf=2, max_features=auto, max_depth=30, total=  21.4s\n",
            "[CV] n_estimators=1000, min_samples_split=2, min_samples_leaf=2, max_features=auto, max_depth=30 \n",
            "[CV]  n_estimators=1000, min_samples_split=2, min_samples_leaf=2, max_features=auto, max_depth=30, total=  21.3s\n",
            "[CV] n_estimators=600, min_samples_split=2, min_samples_leaf=10, max_features=auto, max_depth=25 \n",
            "[CV]  n_estimators=600, min_samples_split=2, min_samples_leaf=10, max_features=auto, max_depth=25, total=   9.3s\n",
            "[CV] n_estimators=600, min_samples_split=2, min_samples_leaf=10, max_features=auto, max_depth=25 \n",
            "[CV]  n_estimators=600, min_samples_split=2, min_samples_leaf=10, max_features=auto, max_depth=25, total=   9.3s\n",
            "[CV] n_estimators=600, min_samples_split=2, min_samples_leaf=10, max_features=auto, max_depth=25 \n",
            "[CV]  n_estimators=600, min_samples_split=2, min_samples_leaf=10, max_features=auto, max_depth=25, total=   9.4s\n",
            "[CV] n_estimators=600, min_samples_split=2, min_samples_leaf=10, max_features=auto, max_depth=25 \n",
            "[CV]  n_estimators=600, min_samples_split=2, min_samples_leaf=10, max_features=auto, max_depth=25, total=   9.3s\n",
            "[CV] n_estimators=600, min_samples_split=2, min_samples_leaf=10, max_features=auto, max_depth=25 \n",
            "[CV]  n_estimators=600, min_samples_split=2, min_samples_leaf=10, max_features=auto, max_depth=25, total=   9.5s\n",
            "[CV] n_estimators=200, min_samples_split=5, min_samples_leaf=10, max_features=auto, max_depth=30 \n",
            "[CV]  n_estimators=200, min_samples_split=5, min_samples_leaf=10, max_features=auto, max_depth=30, total=   3.1s\n",
            "[CV] n_estimators=200, min_samples_split=5, min_samples_leaf=10, max_features=auto, max_depth=30 \n",
            "[CV]  n_estimators=200, min_samples_split=5, min_samples_leaf=10, max_features=auto, max_depth=30, total=   3.1s\n",
            "[CV] n_estimators=200, min_samples_split=5, min_samples_leaf=10, max_features=auto, max_depth=30 \n",
            "[CV]  n_estimators=200, min_samples_split=5, min_samples_leaf=10, max_features=auto, max_depth=30, total=   3.1s\n",
            "[CV] n_estimators=200, min_samples_split=5, min_samples_leaf=10, max_features=auto, max_depth=30 \n",
            "[CV]  n_estimators=200, min_samples_split=5, min_samples_leaf=10, max_features=auto, max_depth=30, total=   3.1s\n",
            "[CV] n_estimators=200, min_samples_split=5, min_samples_leaf=10, max_features=auto, max_depth=30 \n",
            "[CV]  n_estimators=200, min_samples_split=5, min_samples_leaf=10, max_features=auto, max_depth=30, total=   3.1s\n",
            "[CV] n_estimators=300, min_samples_split=2, min_samples_leaf=5, max_features=auto, max_depth=10 \n",
            "[CV]  n_estimators=300, min_samples_split=2, min_samples_leaf=5, max_features=auto, max_depth=10, total=   4.3s\n",
            "[CV] n_estimators=300, min_samples_split=2, min_samples_leaf=5, max_features=auto, max_depth=10 \n",
            "[CV]  n_estimators=300, min_samples_split=2, min_samples_leaf=5, max_features=auto, max_depth=10, total=   4.3s\n",
            "[CV] n_estimators=300, min_samples_split=2, min_samples_leaf=5, max_features=auto, max_depth=10 \n",
            "[CV]  n_estimators=300, min_samples_split=2, min_samples_leaf=5, max_features=auto, max_depth=10, total=   4.3s\n",
            "[CV] n_estimators=300, min_samples_split=2, min_samples_leaf=5, max_features=auto, max_depth=10 \n",
            "[CV]  n_estimators=300, min_samples_split=2, min_samples_leaf=5, max_features=auto, max_depth=10, total=   4.3s\n",
            "[CV] n_estimators=300, min_samples_split=2, min_samples_leaf=5, max_features=auto, max_depth=10 \n",
            "[CV]  n_estimators=300, min_samples_split=2, min_samples_leaf=5, max_features=auto, max_depth=10, total=   4.3s\n"
          ],
          "name": "stdout"
        },
        {
          "output_type": "stream",
          "text": [
            "[Parallel(n_jobs=1)]: Done 250 out of 250 | elapsed: 26.1min finished\n"
          ],
          "name": "stderr"
        },
        {
          "output_type": "execute_result",
          "data": {
            "text/plain": [
              "RandomizedSearchCV(cv=5, error_score=nan,\n",
              "                   estimator=RandomForestRegressor(bootstrap=True,\n",
              "                                                   ccp_alpha=0.0,\n",
              "                                                   criterion='mse',\n",
              "                                                   max_depth=None,\n",
              "                                                   max_features='auto',\n",
              "                                                   max_leaf_nodes=None,\n",
              "                                                   max_samples=None,\n",
              "                                                   min_impurity_decrease=0.0,\n",
              "                                                   min_impurity_split=None,\n",
              "                                                   min_samples_leaf=1,\n",
              "                                                   min_samples_split=2,\n",
              "                                                   min_weight_fraction_leaf=0.0,\n",
              "                                                   n_estimators=100,\n",
              "                                                   n_jobs=None, oob_score=Fals...\n",
              "                   iid='deprecated', n_iter=50, n_jobs=None,\n",
              "                   param_distributions={'max_depth': [5, 10, 15, 20, 25, 30],\n",
              "                                        'max_features': ['auto', 'sqrt'],\n",
              "                                        'min_samples_leaf': [1, 2, 5, 10],\n",
              "                                        'min_samples_split': [2, 5, 10, 15],\n",
              "                                        'n_estimators': [100, 200, 300, 400,\n",
              "                                                         500, 600, 700, 800,\n",
              "                                                         900, 1000, 1100,\n",
              "                                                         1200]},\n",
              "                   pre_dispatch='2*n_jobs', random_state=40, refit=True,\n",
              "                   return_train_score=False, scoring=None, verbose=2)"
            ]
          },
          "metadata": {},
          "execution_count": 76
        }
      ]
    },
    {
      "cell_type": "code",
      "metadata": {
        "colab": {
          "base_uri": "https://localhost:8080/"
        },
        "id": "hsLOTVn0lV27",
        "outputId": "587fcac2-0382-46b4-fdf7-15ea0421d061"
      },
      "source": [
        "cv.best_estimator_\n"
      ],
      "execution_count": null,
      "outputs": [
        {
          "output_type": "execute_result",
          "data": {
            "text/plain": [
              "RandomForestRegressor(bootstrap=True, ccp_alpha=0.0, criterion='mse',\n",
              "                      max_depth=15, max_features='auto', max_leaf_nodes=None,\n",
              "                      max_samples=None, min_impurity_decrease=0.0,\n",
              "                      min_impurity_split=None, min_samples_leaf=2,\n",
              "                      min_samples_split=15, min_weight_fraction_leaf=0.0,\n",
              "                      n_estimators=800, n_jobs=None, oob_score=False,\n",
              "                      random_state=None, verbose=0, warm_start=False)"
            ]
          },
          "metadata": {},
          "execution_count": 77
        }
      ]
    },
    {
      "cell_type": "code",
      "metadata": {
        "colab": {
          "base_uri": "https://localhost:8080/"
        },
        "id": "4kq1GFv6lZiU",
        "outputId": "e6bd755a-62f8-47f4-aa2f-31c05f96f724"
      },
      "source": [
        "cv.best_params_"
      ],
      "execution_count": null,
      "outputs": [
        {
          "output_type": "execute_result",
          "data": {
            "text/plain": [
              "{'max_depth': 15,\n",
              " 'max_features': 'auto',\n",
              " 'min_samples_leaf': 2,\n",
              " 'min_samples_split': 15,\n",
              " 'n_estimators': 800}"
            ]
          },
          "metadata": {},
          "execution_count": 78
        }
      ]
    },
    {
      "cell_type": "code",
      "metadata": {
        "colab": {
          "base_uri": "https://localhost:8080/"
        },
        "id": "_B5vY2dllyWc",
        "outputId": "8c275e01-cea4-430b-d9c3-991a496007b8"
      },
      "source": [
        "y_pred = cv.predict(X_test)\n",
        "y_pred"
      ],
      "execution_count": null,
      "outputs": [
        {
          "output_type": "execute_result",
          "data": {
            "text/plain": [
              "array([16597.19880885,  6184.703547  ,  8625.30980144, ...,\n",
              "        6921.95116214, 12211.14640928, 12490.00002301])"
            ]
          },
          "metadata": {},
          "execution_count": 80
        }
      ]
    },
    {
      "cell_type": "code",
      "metadata": {
        "colab": {
          "base_uri": "https://localhost:8080/",
          "height": 351
        },
        "id": "7M1W5RDYl5vM",
        "outputId": "420dff24-09d4-4059-9d06-28fa3c2a42f8"
      },
      "source": [
        "sns.distplot(y_test-y_pred)"
      ],
      "execution_count": null,
      "outputs": [
        {
          "output_type": "stream",
          "text": [
            "/usr/local/lib/python3.7/dist-packages/seaborn/distributions.py:2557: FutureWarning: `distplot` is a deprecated function and will be removed in a future version. Please adapt your code to use either `displot` (a figure-level function with similar flexibility) or `histplot` (an axes-level function for histograms).\n",
            "  warnings.warn(msg, FutureWarning)\n"
          ],
          "name": "stderr"
        },
        {
          "output_type": "execute_result",
          "data": {
            "text/plain": [
              "<matplotlib.axes._subplots.AxesSubplot at 0x7f00a17600d0>"
            ]
          },
          "metadata": {},
          "execution_count": 81
        },
        {
          "output_type": "display_data",
          "data": {
            "image/png": "[encoded data removed]",
            "text/plain": [
              "<Figure size 432x288 with 1 Axes>"
            ]
          },
          "metadata": {
            "needs_background": "light"
          }
        }
      ]
    },
    {
      "cell_type": "code",
      "metadata": {
        "colab": {
          "base_uri": "https://localhost:8080/",
          "height": 283
        },
        "id": "pMjeyz4Xly2g",
        "outputId": "5db27983-3192-481a-a019-b4f45314c724"
      },
      "source": [
        "plt.scatter(y_test,y_pred)"
      ],
      "execution_count": null,
      "outputs": [
        {
          "output_type": "execute_result",
          "data": {
            "text/plain": [
              "<matplotlib.collections.PathCollection at 0x7f009f6c5710>"
            ]
          },
          "metadata": {},
          "execution_count": 82
        },
        {
          "output_type": "display_data",
          "data": {
            "image/png": "[encoded data removed]",
            "text/plain": [
              "<Figure size 432x288 with 1 Axes>"
            ]
          },
          "metadata": {
            "needs_background": "light"
          }
        }
      ]
    },
    {
      "cell_type": "code",
      "metadata": {
        "id": "ueh5EPJRAqno"
      },
      "source": [
        "from sklearn import datasets\n",
        "df_iris = datasets.load_iris()"
      ],
      "execution_count": null,
      "outputs": []
    },
    {
      "cell_type": "code",
      "metadata": {
        "colab": {
          "base_uri": "https://localhost:8080/"
        },
        "id": "IFwHeJEzArBZ",
        "outputId": "f4135eb0-4946-48c4-a1d0-d72a17918ea9"
      },
      "source": [
        "features = df_iris.data[:,:2]\n",
        "labels = df_iris['target']\n",
        "type(features)\n",
        "type(labels)"
      ],
      "execution_count": null,
      "outputs": [
        {
          "output_type": "execute_result",
          "data": {
            "text/plain": [
              "numpy.ndarray"
            ]
          },
          "metadata": {},
          "execution_count": 29
        }
      ]
    },
    {
      "cell_type": "code",
      "metadata": {
        "colab": {
          "base_uri": "https://localhost:8080/"
        },
        "id": "DqgZDKbKArXz",
        "outputId": "9dadb24c-9e9f-4d19-fc72-ffe8dafd32b1"
      },
      "source": [
        "df1 = pd.DataFrame(target)\n",
        "df1.value_counts()"
      ],
      "execution_count": null,
      "outputs": [
        {
          "output_type": "execute_result",
          "data": {
            "text/plain": [
              "2    50\n",
              "1    50\n",
              "0    50\n",
              "dtype: int64"
            ]
          },
          "metadata": {},
          "execution_count": 31
        }
      ]
    },
    {
      "cell_type": "code",
      "metadata": {
        "colab": {
          "base_uri": "https://localhost:8080/"
        },
        "id": "M-QhfbTcArya",
        "outputId": "ea55caf0-68db-4f96-a5e6-051acf4d91ac"
      },
      "source": [
        "from sklearn.model_selection import train_test_split\n",
        "X_train,X_test,y_train,y_test = train_test_split(features,labels,test_size=0.2,stratify = labels)\n",
        "df_xtrain = pd.DataFrame(X_train)\n",
        "df_xtrain[0].value_counts()"
      ],
      "execution_count": null,
      "outputs": [
        {
          "output_type": "execute_result",
          "data": {
            "text/plain": [
              "5.0    9\n",
              "6.3    9\n",
              "5.7    8\n",
              "5.1    7\n",
              "6.4    7\n",
              "6.1    6\n",
              "6.7    5\n",
              "5.5    5\n",
              "6.5    5\n",
              "4.9    5\n",
              "5.6    5\n",
              "6.0    5\n",
              "4.8    5\n",
              "7.7    4\n",
              "4.6    3\n",
              "4.4    3\n",
              "5.2    3\n",
              "5.9    3\n",
              "7.2    3\n",
              "5.8    3\n",
              "5.4    3\n",
              "4.7    2\n",
              "6.8    2\n",
              "6.2    2\n",
              "4.5    1\n",
              "6.9    1\n",
              "7.9    1\n",
              "7.3    1\n",
              "4.3    1\n",
              "7.1    1\n",
              "6.6    1\n",
              "7.0    1\n",
              "Name: 0, dtype: int64"
            ]
          },
          "metadata": {},
          "execution_count": 37
        }
      ]
    },
    {
      "cell_type": "code",
      "metadata": {
        "colab": {
          "base_uri": "https://localhost:8080/"
        },
        "id": "lBsqI_dOFyh2",
        "outputId": "55669b30-501d-4a59-8e85-c8d05b6a4a65"
      },
      "source": [
        "df_ytrain = pd.DataFrame(y_train)\n",
        "df_ytrain.value_counts()"
      ],
      "execution_count": null,
      "outputs": [
        {
          "output_type": "execute_result",
          "data": {
            "text/plain": [
              "2    40\n",
              "1    40\n",
              "0    40\n",
              "dtype: int64"
            ]
          },
          "metadata": {},
          "execution_count": 38
        }
      ]
    }
  ]
}
